{
 "cells": [
  {
   "cell_type": "markdown",
   "id": "a0c5b6cd",
   "metadata": {},
   "source": [
    "# Graph Theory Design for Optimal East Lansing Travel Route\n",
    "## Social 5 Group Project\n",
    "#### Jessica, Benjamin, Frank, Aaron, Joshua, Rishika "
   ]
  },
  {
   "cell_type": "markdown",
   "id": "9b0512cc",
   "metadata": {},
   "source": [
    "## 1 Background and Motivation"
   ]
  },
  {
   "cell_type": "markdown",
   "id": "92c2523f",
   "metadata": {},
   "source": [
    "With over 5,200 acres, Michigan State University is the 8th largest college campus in the United States. This campus is home to 563 buildings and has several miles of roads and sidewalks, so navigating between classes and landmarks can be very challenging. To help students, faculty, and visitors better navigate MSU's campus and the surrounding East Lansing area, our group seeks to calculate the shortest route between two chosen points of interest using various methods of transportation. The transportation types include walking and driving, and routes can be optimized for the least time traveled or the shortest distance covered. These conditions can be changed based on user preference and represent the primary variables of real-life transportation.  \n",
    "\n",
    "\n",
    "\n",
    "To determine the most efficient route based on various inputs, our group utilized OSMnx, Networkx, and Geopy to make a function that satisfies the travel conditions of the user. By developing functions that streamline the user-interface experience and accurately visualize spatial relationships on a 2-D plane, the user can quickly obtain reliable navigation information. The primary deliverable of this project is a function that displays a navigation map based on a starting location, ending location, a method of travel, and a distance or time minimizer. This function is derived from user-interface development and effective user-friendly visualization packages in Python. The functions can be applied for studying broader networks and has implementation potential for mobile apps and websites. In our study, the deliverables can be used to analyze human-spatial interactions in East Lansing, but broader analysis and conclusions can be formed from these visualizations. "
   ]
  },
  {
   "cell_type": "markdown",
   "id": "deebf5d2",
   "metadata": {},
   "source": [
    "## 2 Methodology"
   ]
  },
  {
   "cell_type": "markdown",
   "id": "466a4581",
   "metadata": {},
   "source": [
    "In creating a pseudo interface for navigation at MSU and the surrounding area, we will rely heavily on graph theory. Specifically, we will make use of osmnx, folium, and networkx. Geopy will also be necessary for allowing users to specify locations."
   ]
  },
  {
   "cell_type": "markdown",
   "id": "dec0394d",
   "metadata": {},
   "source": [
    "### Attention: Please uncomment the cell directly below and then run the cells underneath."
   ]
  },
  {
   "cell_type": "code",
   "execution_count": 2,
   "id": "a9c3c4b2",
   "metadata": {},
   "outputs": [
    {
     "name": "stdout",
     "output_type": "stream",
     "text": [
      "Defaulting to user installation because normal site-packages is not writeable\n",
      "Requirement already satisfied: osmnx in /home/smit1920/.local/lib/python3.8/site-packages (1.1.2)\n",
      "Requirement already satisfied: geopandas>=0.10 in /home/smit1920/.local/lib/python3.8/site-packages (from osmnx) (0.10.2)\n",
      "Requirement already satisfied: Shapely<2.0,>=1.7 in /home/smit1920/.local/lib/python3.8/site-packages (from osmnx) (1.8.0)\n",
      "Requirement already satisfied: numpy>=1.21 in /home/smit1920/.local/lib/python3.8/site-packages (from osmnx) (1.22.3)\n",
      "Requirement already satisfied: matplotlib>=3.4 in /home/smit1920/.local/lib/python3.8/site-packages (from osmnx) (3.5.1)\n",
      "Requirement already satisfied: pandas>=1.3 in /home/smit1920/.local/lib/python3.8/site-packages (from osmnx) (1.4.2)\n",
      "Requirement already satisfied: pyproj>=3.2 in /home/smit1920/.local/lib/python3.8/site-packages (from osmnx) (3.3.0)\n",
      "Requirement already satisfied: requests>=2.26 in /home/smit1920/.local/lib/python3.8/site-packages (from osmnx) (2.27.1)\n",
      "Requirement already satisfied: Rtree>=0.9 in /opt/anaconda3/lib/python3.8/site-packages (from osmnx) (0.9.7)\n",
      "Requirement already satisfied: networkx>=2.6 in /home/smit1920/.local/lib/python3.8/site-packages (from osmnx) (2.7.1)\n",
      "Requirement already satisfied: fiona>=1.8 in /home/smit1920/.local/lib/python3.8/site-packages (from geopandas>=0.10->osmnx) (1.8.20)\n",
      "Requirement already satisfied: click>=4.0 in /opt/anaconda3/lib/python3.8/site-packages (from fiona>=1.8->geopandas>=0.10->osmnx) (7.1.2)\n",
      "Requirement already satisfied: attrs>=17 in /opt/anaconda3/lib/python3.8/site-packages (from fiona>=1.8->geopandas>=0.10->osmnx) (20.3.0)\n",
      "Requirement already satisfied: six>=1.7 in /opt/anaconda3/lib/python3.8/site-packages (from fiona>=1.8->geopandas>=0.10->osmnx) (1.15.0)\n",
      "Requirement already satisfied: munch in /home/smit1920/.local/lib/python3.8/site-packages (from fiona>=1.8->geopandas>=0.10->osmnx) (2.5.0)\n",
      "Requirement already satisfied: cligj>=0.5 in /home/smit1920/.local/lib/python3.8/site-packages (from fiona>=1.8->geopandas>=0.10->osmnx) (0.7.2)\n",
      "Requirement already satisfied: setuptools in /opt/anaconda3/lib/python3.8/site-packages (from fiona>=1.8->geopandas>=0.10->osmnx) (52.0.0.post20210125)\n",
      "Requirement already satisfied: click-plugins>=1.0 in /home/smit1920/.local/lib/python3.8/site-packages (from fiona>=1.8->geopandas>=0.10->osmnx) (1.1.1)\n",
      "Requirement already satisfied: certifi in /home/smit1920/.local/lib/python3.8/site-packages (from fiona>=1.8->geopandas>=0.10->osmnx) (2021.10.8)\n",
      "Requirement already satisfied: cycler>=0.10 in /opt/anaconda3/lib/python3.8/site-packages (from matplotlib>=3.4->osmnx) (0.10.0)\n",
      "Requirement already satisfied: packaging>=20.0 in /opt/anaconda3/lib/python3.8/site-packages (from matplotlib>=3.4->osmnx) (20.9)\n",
      "Requirement already satisfied: pyparsing>=2.2.1 in /opt/anaconda3/lib/python3.8/site-packages (from matplotlib>=3.4->osmnx) (2.4.7)\n",
      "Requirement already satisfied: fonttools>=4.22.0 in /home/smit1920/.local/lib/python3.8/site-packages (from matplotlib>=3.4->osmnx) (4.31.2)\n",
      "Requirement already satisfied: python-dateutil>=2.7 in /opt/anaconda3/lib/python3.8/site-packages (from matplotlib>=3.4->osmnx) (2.8.1)\n",
      "Requirement already satisfied: kiwisolver>=1.0.1 in /opt/anaconda3/lib/python3.8/site-packages (from matplotlib>=3.4->osmnx) (1.3.1)\n",
      "Requirement already satisfied: pillow>=6.2.0 in /opt/anaconda3/lib/python3.8/site-packages (from matplotlib>=3.4->osmnx) (8.2.0)\n",
      "Requirement already satisfied: pytz>=2020.1 in /opt/anaconda3/lib/python3.8/site-packages (from pandas>=1.3->osmnx) (2021.1)\n",
      "Requirement already satisfied: charset-normalizer~=2.0.0 in /home/smit1920/.local/lib/python3.8/site-packages (from requests>=2.26->osmnx) (2.0.12)\n",
      "Requirement already satisfied: idna<4,>=2.5 in /opt/anaconda3/lib/python3.8/site-packages (from requests>=2.26->osmnx) (2.10)\n",
      "Requirement already satisfied: urllib3<1.27,>=1.21.1 in /opt/anaconda3/lib/python3.8/site-packages (from requests>=2.26->osmnx) (1.26.4)\n",
      "Defaulting to user installation because normal site-packages is not writeable\n",
      "Requirement already satisfied: geopy in /home/smit1920/.local/lib/python3.8/site-packages (2.2.0)\n",
      "Requirement already satisfied: geographiclib<2,>=1.49 in /home/smit1920/.local/lib/python3.8/site-packages (from geopy) (1.52)\n",
      "Defaulting to user installation because normal site-packages is not writeable\n",
      "Requirement already satisfied: networkx in /home/smit1920/.local/lib/python3.8/site-packages (2.7.1)\n",
      "Defaulting to user installation because normal site-packages is not writeable\n",
      "Requirement already satisfied: folium in /home/smit1920/.local/lib/python3.8/site-packages (0.12.1.post1)\n",
      "Requirement already satisfied: numpy in /home/smit1920/.local/lib/python3.8/site-packages (from folium) (1.22.3)\n",
      "Requirement already satisfied: jinja2>=2.9 in /opt/anaconda3/lib/python3.8/site-packages (from folium) (3.1.2)\n",
      "Requirement already satisfied: requests in /home/smit1920/.local/lib/python3.8/site-packages (from folium) (2.27.1)\n",
      "Requirement already satisfied: branca>=0.3.0 in /home/smit1920/.local/lib/python3.8/site-packages (from folium) (0.4.2)\n",
      "Requirement already satisfied: MarkupSafe>=2.0 in /opt/anaconda3/lib/python3.8/site-packages (from jinja2>=2.9->folium) (2.1.1)\n",
      "Requirement already satisfied: certifi>=2017.4.17 in /home/smit1920/.local/lib/python3.8/site-packages (from requests->folium) (2021.10.8)\n",
      "Requirement already satisfied: idna<4,>=2.5 in /opt/anaconda3/lib/python3.8/site-packages (from requests->folium) (2.10)\n",
      "Requirement already satisfied: charset-normalizer~=2.0.0 in /home/smit1920/.local/lib/python3.8/site-packages (from requests->folium) (2.0.12)\n",
      "Requirement already satisfied: urllib3<1.27,>=1.21.1 in /opt/anaconda3/lib/python3.8/site-packages (from requests->folium) (1.26.4)\n"
     ]
    }
   ],
   "source": [
    "#installs\n",
    "!pip install osmnx\n",
    "!pip install geopy\n",
    "!pip install networkx\n",
    "!pip install folium"
   ]
  },
  {
   "cell_type": "code",
   "execution_count": 3,
   "id": "25de20e9",
   "metadata": {},
   "outputs": [],
   "source": [
    "# imports\n",
    "import osmnx as ox\n",
    "import folium\n",
    "import networkx as nx\n",
    "from geopy.geocoders import Nominatim"
   ]
  },
  {
   "cell_type": "markdown",
   "id": "1e4217c8",
   "metadata": {},
   "source": [
    "### Stop!"
   ]
  },
  {
   "cell_type": "markdown",
   "id": "95db6124",
   "metadata": {},
   "source": [
    "The function below utilizes geopy to return coordinates given a location name."
   ]
  },
  {
   "cell_type": "markdown",
   "id": "cc8f1112",
   "metadata": {},
   "source": [
    "### Run the cell below."
   ]
  },
  {
   "cell_type": "code",
   "execution_count": 4,
   "id": "4c2f6793",
   "metadata": {},
   "outputs": [],
   "source": [
    "def getCoordinates(location):\n",
    "    '''\n",
    "    This function gets the coordinates of a place from an inputted string name, and from that string name returns address, coordinates, and getLoc\n",
    "    \n",
    "    inputs:\n",
    "        Location: A string that represents a place in or near MSU campus\n",
    "        \n",
    "    Returns:\n",
    "        Adress: The name of the location\n",
    "        Coordinates: The longitude and latitude of the location\n",
    "        getLoc: Determines if the entered location is in East Lansing\n",
    "    '''\n",
    "    loc = Nominatim(user_agent=\"GetLoc\")\n",
    "\n",
    "    # appending city and state to location name\n",
    "    location = location + \", East Lansing, MI\"\n",
    "    getLoc = loc.geocode(location)\n",
    "        # checking location exists, if not function returns None for all values\n",
    "    if getLoc is None:\n",
    "        return None, None, None\n",
    "    else:\n",
    "        # storing address name\n",
    "        address = getLoc.address\n",
    "\n",
    "        # storing lattitude and longitude\n",
    "        coordinates = (getLoc.latitude, getLoc.longitude)\n",
    "\n",
    "        return address, coordinates, getLoc"
   ]
  },
  {
   "cell_type": "markdown",
   "id": "52f14356",
   "metadata": {},
   "source": [
    "### Stop!"
   ]
  },
  {
   "cell_type": "markdown",
   "id": "a74f606b",
   "metadata": {},
   "source": [
    "The cell below uses osmnx to generate a graph for MSU campus and the surrounding area. The following cells displays the node data and edge data for the graphs."
   ]
  },
  {
   "cell_type": "markdown",
   "id": "81150869",
   "metadata": {},
   "source": [
    "### Run the cells below."
   ]
  },
  {
   "cell_type": "code",
   "execution_count": 5,
   "id": "18f1e1dc",
   "metadata": {},
   "outputs": [],
   "source": [
    "# initializing graph object\n",
    "place = (42.72184876143654, -84.48878571939379)\n",
    "G = ox.graph_from_point(place, dist=1500, network_type='drive')"
   ]
  },
  {
   "cell_type": "code",
   "execution_count": 6,
   "id": "2156b0ed",
   "metadata": {},
   "outputs": [
    {
     "name": "stdout",
     "output_type": "stream",
     "text": [
      "Nodes\n"
     ]
    },
    {
     "data": {
      "text/html": [
       "<div>\n",
       "<style scoped>\n",
       "    .dataframe tbody tr th:only-of-type {\n",
       "        vertical-align: middle;\n",
       "    }\n",
       "\n",
       "    .dataframe tbody tr th {\n",
       "        vertical-align: top;\n",
       "    }\n",
       "\n",
       "    .dataframe thead th {\n",
       "        text-align: right;\n",
       "    }\n",
       "</style>\n",
       "<table border=\"1\" class=\"dataframe\">\n",
       "  <thead>\n",
       "    <tr style=\"text-align: right;\">\n",
       "      <th></th>\n",
       "      <th>y</th>\n",
       "      <th>x</th>\n",
       "      <th>street_count</th>\n",
       "      <th>highway</th>\n",
       "      <th>ref</th>\n",
       "      <th>geometry</th>\n",
       "    </tr>\n",
       "    <tr>\n",
       "      <th>osmid</th>\n",
       "      <th></th>\n",
       "      <th></th>\n",
       "      <th></th>\n",
       "      <th></th>\n",
       "      <th></th>\n",
       "      <th></th>\n",
       "    </tr>\n",
       "  </thead>\n",
       "  <tbody>\n",
       "    <tr>\n",
       "      <th>184487794</th>\n",
       "      <td>42.733600</td>\n",
       "      <td>-84.500390</td>\n",
       "      <td>3</td>\n",
       "      <td>NaN</td>\n",
       "      <td>NaN</td>\n",
       "      <td>POINT (-84.50039 42.73360)</td>\n",
       "    </tr>\n",
       "    <tr>\n",
       "      <th>184494621</th>\n",
       "      <td>42.719906</td>\n",
       "      <td>-84.499945</td>\n",
       "      <td>4</td>\n",
       "      <td>NaN</td>\n",
       "      <td>NaN</td>\n",
       "      <td>POINT (-84.49995 42.71991)</td>\n",
       "    </tr>\n",
       "    <tr>\n",
       "      <th>184494629</th>\n",
       "      <td>42.720184</td>\n",
       "      <td>-84.502318</td>\n",
       "      <td>3</td>\n",
       "      <td>motorway_junction</td>\n",
       "      <td>NaN</td>\n",
       "      <td>POINT (-84.50232 42.72018)</td>\n",
       "    </tr>\n",
       "    <tr>\n",
       "      <th>184494646</th>\n",
       "      <td>42.720262</td>\n",
       "      <td>-84.502886</td>\n",
       "      <td>3</td>\n",
       "      <td>motorway_junction</td>\n",
       "      <td>NaN</td>\n",
       "      <td>POINT (-84.50289 42.72026)</td>\n",
       "    </tr>\n",
       "    <tr>\n",
       "      <th>184508494</th>\n",
       "      <td>42.733594</td>\n",
       "      <td>-84.502953</td>\n",
       "      <td>3</td>\n",
       "      <td>bus_stop</td>\n",
       "      <td>NaN</td>\n",
       "      <td>POINT (-84.50295 42.73359)</td>\n",
       "    </tr>\n",
       "  </tbody>\n",
       "</table>\n",
       "</div>"
      ],
      "text/plain": [
       "                   y          x  street_count            highway  ref  \\\n",
       "osmid                                                                   \n",
       "184487794  42.733600 -84.500390             3                NaN  NaN   \n",
       "184494621  42.719906 -84.499945             4                NaN  NaN   \n",
       "184494629  42.720184 -84.502318             3  motorway_junction  NaN   \n",
       "184494646  42.720262 -84.502886             3  motorway_junction  NaN   \n",
       "184508494  42.733594 -84.502953             3           bus_stop  NaN   \n",
       "\n",
       "                             geometry  \n",
       "osmid                                  \n",
       "184487794  POINT (-84.50039 42.73360)  \n",
       "184494621  POINT (-84.49995 42.71991)  \n",
       "184494629  POINT (-84.50232 42.72018)  \n",
       "184494646  POINT (-84.50289 42.72026)  \n",
       "184508494  POINT (-84.50295 42.73359)  "
      ]
     },
     "metadata": {},
     "output_type": "display_data"
    },
    {
     "name": "stdout",
     "output_type": "stream",
     "text": [
      "Edges\n"
     ]
    },
    {
     "data": {
      "text/html": [
       "<div>\n",
       "<style scoped>\n",
       "    .dataframe tbody tr th:only-of-type {\n",
       "        vertical-align: middle;\n",
       "    }\n",
       "\n",
       "    .dataframe tbody tr th {\n",
       "        vertical-align: top;\n",
       "    }\n",
       "\n",
       "    .dataframe thead th {\n",
       "        text-align: right;\n",
       "    }\n",
       "</style>\n",
       "<table border=\"1\" class=\"dataframe\">\n",
       "  <thead>\n",
       "    <tr style=\"text-align: right;\">\n",
       "      <th></th>\n",
       "      <th></th>\n",
       "      <th></th>\n",
       "      <th>osmid</th>\n",
       "      <th>oneway</th>\n",
       "      <th>ref</th>\n",
       "      <th>name</th>\n",
       "      <th>highway</th>\n",
       "      <th>maxspeed</th>\n",
       "      <th>length</th>\n",
       "      <th>geometry</th>\n",
       "      <th>lanes</th>\n",
       "      <th>bridge</th>\n",
       "      <th>access</th>\n",
       "    </tr>\n",
       "    <tr>\n",
       "      <th>u</th>\n",
       "      <th>v</th>\n",
       "      <th>key</th>\n",
       "      <th></th>\n",
       "      <th></th>\n",
       "      <th></th>\n",
       "      <th></th>\n",
       "      <th></th>\n",
       "      <th></th>\n",
       "      <th></th>\n",
       "      <th></th>\n",
       "      <th></th>\n",
       "      <th></th>\n",
       "      <th></th>\n",
       "    </tr>\n",
       "  </thead>\n",
       "  <tbody>\n",
       "    <tr>\n",
       "      <th>184487794</th>\n",
       "      <th>1496019655</th>\n",
       "      <th>0</th>\n",
       "      <td>317024753</td>\n",
       "      <td>True</td>\n",
       "      <td>M 143</td>\n",
       "      <td>Michigan Avenue</td>\n",
       "      <td>secondary</td>\n",
       "      <td>35 mph</td>\n",
       "      <td>104.301</td>\n",
       "      <td>LINESTRING (-84.50039 42.73360, -84.50098 42.7...</td>\n",
       "      <td>NaN</td>\n",
       "      <td>NaN</td>\n",
       "      <td>NaN</td>\n",
       "    </tr>\n",
       "    <tr>\n",
       "      <th rowspan=\"3\" valign=\"top\">184494621</th>\n",
       "      <th>184494629</th>\n",
       "      <th>0</th>\n",
       "      <td>17806460</td>\n",
       "      <td>True</td>\n",
       "      <td>NaN</td>\n",
       "      <td>NaN</td>\n",
       "      <td>motorway_link</td>\n",
       "      <td>NaN</td>\n",
       "      <td>196.455</td>\n",
       "      <td>LINESTRING (-84.49995 42.71991, -84.50073 42.7...</td>\n",
       "      <td>2</td>\n",
       "      <td>NaN</td>\n",
       "      <td>NaN</td>\n",
       "    </tr>\n",
       "    <tr>\n",
       "      <th>184591040</th>\n",
       "      <th>0</th>\n",
       "      <td>17823087</td>\n",
       "      <td>False</td>\n",
       "      <td>NaN</td>\n",
       "      <td>Arbor Drive</td>\n",
       "      <td>residential</td>\n",
       "      <td>NaN</td>\n",
       "      <td>105.350</td>\n",
       "      <td>LINESTRING (-84.49995 42.71991, -84.49995 42.7...</td>\n",
       "      <td>NaN</td>\n",
       "      <td>NaN</td>\n",
       "      <td>NaN</td>\n",
       "    </tr>\n",
       "    <tr>\n",
       "      <th>184639765</th>\n",
       "      <th>0</th>\n",
       "      <td>996327484</td>\n",
       "      <td>True</td>\n",
       "      <td>NaN</td>\n",
       "      <td>Arbor Drive</td>\n",
       "      <td>residential</td>\n",
       "      <td>NaN</td>\n",
       "      <td>15.182</td>\n",
       "      <td>LINESTRING (-84.49995 42.71991, -84.49994 42.7...</td>\n",
       "      <td>NaN</td>\n",
       "      <td>NaN</td>\n",
       "      <td>NaN</td>\n",
       "    </tr>\n",
       "    <tr>\n",
       "      <th>184494629</th>\n",
       "      <th>184494646</th>\n",
       "      <th>0</th>\n",
       "      <td>17806460</td>\n",
       "      <td>True</td>\n",
       "      <td>NaN</td>\n",
       "      <td>NaN</td>\n",
       "      <td>motorway_link</td>\n",
       "      <td>NaN</td>\n",
       "      <td>47.243</td>\n",
       "      <td>LINESTRING (-84.50232 42.72018, -84.50289 42.7...</td>\n",
       "      <td>2</td>\n",
       "      <td>NaN</td>\n",
       "      <td>NaN</td>\n",
       "    </tr>\n",
       "  </tbody>\n",
       "</table>\n",
       "</div>"
      ],
      "text/plain": [
       "                              osmid  oneway    ref             name  \\\n",
       "u         v          key                                              \n",
       "184487794 1496019655 0    317024753    True  M 143  Michigan Avenue   \n",
       "184494621 184494629  0     17806460    True    NaN              NaN   \n",
       "          184591040  0     17823087   False    NaN      Arbor Drive   \n",
       "          184639765  0    996327484    True    NaN      Arbor Drive   \n",
       "184494629 184494646  0     17806460    True    NaN              NaN   \n",
       "\n",
       "                                highway maxspeed   length  \\\n",
       "u         v          key                                    \n",
       "184487794 1496019655 0        secondary   35 mph  104.301   \n",
       "184494621 184494629  0    motorway_link      NaN  196.455   \n",
       "          184591040  0      residential      NaN  105.350   \n",
       "          184639765  0      residential      NaN   15.182   \n",
       "184494629 184494646  0    motorway_link      NaN   47.243   \n",
       "\n",
       "                                                                   geometry  \\\n",
       "u         v          key                                                      \n",
       "184487794 1496019655 0    LINESTRING (-84.50039 42.73360, -84.50098 42.7...   \n",
       "184494621 184494629  0    LINESTRING (-84.49995 42.71991, -84.50073 42.7...   \n",
       "          184591040  0    LINESTRING (-84.49995 42.71991, -84.49995 42.7...   \n",
       "          184639765  0    LINESTRING (-84.49995 42.71991, -84.49994 42.7...   \n",
       "184494629 184494646  0    LINESTRING (-84.50232 42.72018, -84.50289 42.7...   \n",
       "\n",
       "                         lanes bridge access  \n",
       "u         v          key                      \n",
       "184487794 1496019655 0     NaN    NaN    NaN  \n",
       "184494621 184494629  0       2    NaN    NaN  \n",
       "          184591040  0     NaN    NaN    NaN  \n",
       "          184639765  0     NaN    NaN    NaN  \n",
       "184494629 184494646  0       2    NaN    NaN  "
      ]
     },
     "metadata": {},
     "output_type": "display_data"
    }
   ],
   "source": [
    "graph_dataframes = ox.graph_to_gdfs(G, nodes=True, edges=True)\n",
    "print(\"Nodes\")\n",
    "display(graph_dataframes[0].head()) #displays the information for the first 5 nodes\n",
    "print(\"Edges\")\n",
    "display(graph_dataframes[1].head()) #displays the information for the first 5 edges"
   ]
  },
  {
   "cell_type": "markdown",
   "id": "30565c47",
   "metadata": {},
   "source": [
    "As we can see, osmnx graphs store a lot of information. We want to pay attention to the connections and their lengths and maxspeeds. The x and y coordinates of the nodes are also necessary for our getCoordinates function."
   ]
  },
  {
   "cell_type": "markdown",
   "id": "469b939b",
   "metadata": {},
   "source": [
    "### Stop!"
   ]
  },
  {
   "cell_type": "markdown",
   "id": "908efa5b",
   "metadata": {},
   "source": [
    "Netowrkx is not the only package capable of finding the shortest route, but unlike other packages, it allows the user to specify what the weight for the path should be. For now, we will find the path with the shortest distance, but later we will tell Networkx to find the shortest drive time (or walking time). The cells below contain an example plot using two types of plots: osmnx and folium."
   ]
  },
  {
   "cell_type": "markdown",
   "id": "fca02e89",
   "metadata": {},
   "source": [
    "### Run the cells below."
   ]
  },
  {
   "cell_type": "code",
   "execution_count": 7,
   "id": "b5714b85",
   "metadata": {},
   "outputs": [],
   "source": [
    "start = (42.7240569042893, -84.470615171598) #Arbitrary East Lansing starting location\n",
    "end =(42.72507741134227, -84.48132919519877) #Arbitrary East Lansing ending location\n",
    "\n",
    "orig_node = ox.nearest_nodes(G, start[1], start[0])   #inputting the starting node into OSMnx\n",
    "target_node = ox.nearest_nodes(G, end[1], end[0])   #inputting the ending node into OSMnx\n",
    "\n",
    "route = nx.shortest_path(G,\n",
    "                         orig_node,\n",
    "                         target_node, weight='distance')    #get shortest route"
   ]
  },
  {
   "cell_type": "code",
   "execution_count": 8,
   "id": "03830036",
   "metadata": {},
   "outputs": [
    {
     "data": {
      "image/png": "[encoded data removed]",
      "text/plain": [
       "<Figure size 576x576 with 1 Axes>"
      ]
     },
     "metadata": {},
     "output_type": "display_data"
    }
   ],
   "source": [
    "fig, ax = ox.plot_graph_route(G, route, route_color=\"y\", route_linewidth=6, node_size=6)"
   ]
  },
  {
   "cell_type": "code",
   "execution_count": 9,
   "id": "a1a34fa0",
   "metadata": {},
   "outputs": [
    {
     "data": {
      "text/html": [
       "<div style=\"width:100%;\"><div style=\"position:relative;width:100%;height:0;padding-bottom:60%;\"><span style=\"color:#565656\">Make this Notebook Trusted to load map: File -> Trust Notebook</span><iframe src=\"about:blank\" style=\"position:absolute;width:100%;height:100%;left:0;top:0;border:none !important;\" data-html=%3C%21DOCTYPE%20html%3E%0A%3Chead%3E%20%20%20%20%0A%20%20%20%20%3Cmeta%20http-equiv%3D%22content-type%22%20content%3D%22text/html%3B%20charset%3DUTF-8%22%20/%3E%0A%20%20%20%20%0A%20%20%20%20%20%20%20%20%3Cscript%3E%0A%20%20%20%20%20%20%20%20%20%20%20%20L_NO_TOUCH%20%3D%20false%3B%0A%20%20%20%20%20%20%20%20%20%20%20%20L_DISABLE_3D%20%3D%20false%3B%0A%20%20%20%20%20%20%20%20%3C/script%3E%0A%20%20%20%20%0A%20%20%20%20%3Cstyle%3Ehtml%2C%20body%20%7Bwidth%3A%20100%25%3Bheight%3A%20100%25%3Bmargin%3A%200%3Bpadding%3A%200%3B%7D%3C/style%3E%0A%20%20%20%20%3Cstyle%3E%23map%20%7Bposition%3Aabsolute%3Btop%3A0%3Bbottom%3A0%3Bright%3A0%3Bleft%3A0%3B%7D%3C/style%3E%0A%20%20%20%20%3Cscript%20src%3D%22https%3A//cdn.jsdelivr.net/npm/leaflet%401.6.0/dist/leaflet.js%22%3E%3C/script%3E%0A%20%20%20%20%3Cscript%20src%3D%22https%3A//code.jquery.com/jquery-1.12.4.min.js%22%3E%3C/script%3E%0A%20%20%20%20%3Cscript%20src%3D%22https%3A//maxcdn.bootstrapcdn.com/bootstrap/3.2.0/js/bootstrap.min.js%22%3E%3C/script%3E%0A%20%20%20%20%3Cscript%20src%3D%22https%3A//cdnjs.cloudflare.com/ajax/libs/Leaflet.awesome-markers/2.0.2/leaflet.awesome-markers.js%22%3E%3C/script%3E%0A%20%20%20%20%3Clink%20rel%3D%22stylesheet%22%20href%3D%22https%3A//cdn.jsdelivr.net/npm/leaflet%401.6.0/dist/leaflet.css%22/%3E%0A%20%20%20%20%3Clink%20rel%3D%22stylesheet%22%20href%3D%22https%3A//maxcdn.bootstrapcdn.com/bootstrap/3.2.0/css/bootstrap.min.css%22/%3E%0A%20%20%20%20%3Clink%20rel%3D%22stylesheet%22%20href%3D%22https%3A//maxcdn.bootstrapcdn.com/bootstrap/3.2.0/css/bootstrap-theme.min.css%22/%3E%0A%20%20%20%20%3Clink%20rel%3D%22stylesheet%22%20href%3D%22https%3A//maxcdn.bootstrapcdn.com/font-awesome/4.6.3/css/font-awesome.min.css%22/%3E%0A%20%20%20%20%3Clink%20rel%3D%22stylesheet%22%20href%3D%22https%3A//cdnjs.cloudflare.com/ajax/libs/Leaflet.awesome-markers/2.0.2/leaflet.awesome-markers.css%22/%3E%0A%20%20%20%20%3Clink%20rel%3D%22stylesheet%22%20href%3D%22https%3A//cdn.jsdelivr.net/gh/python-visualization/folium/folium/templates/leaflet.awesome.rotate.min.css%22/%3E%0A%20%20%20%20%0A%20%20%20%20%20%20%20%20%20%20%20%20%3Cmeta%20name%3D%22viewport%22%20content%3D%22width%3Ddevice-width%2C%0A%20%20%20%20%20%20%20%20%20%20%20%20%20%20%20%20initial-scale%3D1.0%2C%20maximum-scale%3D1.0%2C%20user-scalable%3Dno%22%20/%3E%0A%20%20%20%20%20%20%20%20%20%20%20%20%3Cstyle%3E%0A%20%20%20%20%20%20%20%20%20%20%20%20%20%20%20%20%23map_4e384b88646345988cfcbf875b168aa2%20%7B%0A%20%20%20%20%20%20%20%20%20%20%20%20%20%20%20%20%20%20%20%20position%3A%20relative%3B%0A%20%20%20%20%20%20%20%20%20%20%20%20%20%20%20%20%20%20%20%20width%3A%20100.0%25%3B%0A%20%20%20%20%20%20%20%20%20%20%20%20%20%20%20%20%20%20%20%20height%3A%20100.0%25%3B%0A%20%20%20%20%20%20%20%20%20%20%20%20%20%20%20%20%20%20%20%20left%3A%200.0%25%3B%0A%20%20%20%20%20%20%20%20%20%20%20%20%20%20%20%20%20%20%20%20top%3A%200.0%25%3B%0A%20%20%20%20%20%20%20%20%20%20%20%20%20%20%20%20%7D%0A%20%20%20%20%20%20%20%20%20%20%20%20%3C/style%3E%0A%20%20%20%20%20%20%20%20%0A%3C/head%3E%0A%3Cbody%3E%20%20%20%20%0A%20%20%20%20%0A%20%20%20%20%20%20%20%20%20%20%20%20%3Cdiv%20class%3D%22folium-map%22%20id%3D%22map_4e384b88646345988cfcbf875b168aa2%22%20%3E%3C/div%3E%0A%20%20%20%20%20%20%20%20%0A%3C/body%3E%0A%3Cscript%3E%20%20%20%20%0A%20%20%20%20%0A%20%20%20%20%20%20%20%20%20%20%20%20var%20map_4e384b88646345988cfcbf875b168aa2%20%3D%20L.map%28%0A%20%20%20%20%20%20%20%20%20%20%20%20%20%20%20%20%22map_4e384b88646345988cfcbf875b168aa2%22%2C%0A%20%20%20%20%20%20%20%20%20%20%20%20%20%20%20%20%7B%0A%20%20%20%20%20%20%20%20%20%20%20%20%20%20%20%20%20%20%20%20center%3A%20%5B42.725984378017245%2C%20-84.47686775804908%5D%2C%0A%20%20%20%20%20%20%20%20%20%20%20%20%20%20%20%20%20%20%20%20crs%3A%20L.CRS.EPSG3857%2C%0A%20%20%20%20%20%20%20%20%20%20%20%20%20%20%20%20%20%20%20%20zoom%3A%201%2C%0A%20%20%20%20%20%20%20%20%20%20%20%20%20%20%20%20%20%20%20%20zoomControl%3A%20true%2C%0A%20%20%20%20%20%20%20%20%20%20%20%20%20%20%20%20%20%20%20%20preferCanvas%3A%20false%2C%0A%20%20%20%20%20%20%20%20%20%20%20%20%20%20%20%20%7D%0A%20%20%20%20%20%20%20%20%20%20%20%20%29%3B%0A%0A%20%20%20%20%20%20%20%20%20%20%20%20%0A%0A%20%20%20%20%20%20%20%20%0A%20%20%20%20%0A%20%20%20%20%20%20%20%20%20%20%20%20var%20tile_layer_f780fec6077d4324a251ea025642c161%20%3D%20L.tileLayer%28%0A%20%20%20%20%20%20%20%20%20%20%20%20%20%20%20%20%22https%3A//cartodb-basemaps-%7Bs%7D.global.ssl.fastly.net/light_all/%7Bz%7D/%7Bx%7D/%7By%7D.png%22%2C%0A%20%20%20%20%20%20%20%20%20%20%20%20%20%20%20%20%7B%22attribution%22%3A%20%22%5Cu0026copy%3B%20%5Cu003ca%20href%3D%5C%22http%3A//www.openstreetmap.org/copyright%5C%22%5Cu003eOpenStreetMap%5Cu003c/a%5Cu003e%20contributors%20%5Cu0026copy%3B%20%5Cu003ca%20href%3D%5C%22http%3A//cartodb.com/attributions%5C%22%5Cu003eCartoDB%5Cu003c/a%5Cu003e%2C%20CartoDB%20%5Cu003ca%20href%20%3D%5C%22http%3A//cartodb.com/attributions%5C%22%5Cu003eattributions%5Cu003c/a%5Cu003e%22%2C%20%22detectRetina%22%3A%20false%2C%20%22maxNativeZoom%22%3A%2018%2C%20%22maxZoom%22%3A%2018%2C%20%22minZoom%22%3A%200%2C%20%22noWrap%22%3A%20false%2C%20%22opacity%22%3A%201%2C%20%22subdomains%22%3A%20%22abc%22%2C%20%22tms%22%3A%20false%7D%0A%20%20%20%20%20%20%20%20%20%20%20%20%29.addTo%28map_4e384b88646345988cfcbf875b168aa2%29%3B%0A%20%20%20%20%20%20%20%20%0A%20%20%20%20%0A%20%20%20%20%20%20%20%20%20%20%20%20var%20poly_line_5855e050a2d245a9a2bd0159b4cd06d6%20%3D%20L.polyline%28%0A%20%20%20%20%20%20%20%20%20%20%20%20%20%20%20%20%5B%5B42.7249256%2C%20-84.4717447%5D%2C%20%5B42.7249822%2C%20-84.4717741%5D%2C%20%5B42.7251262%2C%20-84.4718481%5D%2C%20%5B42.7252452%2C%20-84.4719062%5D%2C%20%5B42.7253531%2C%20-84.4719595%5D%2C%20%5B42.7254505%2C%20-84.4720032%5D%5D%2C%0A%20%20%20%20%20%20%20%20%20%20%20%20%20%20%20%20%7B%22bubblingMouseEvents%22%3A%20true%2C%20%22color%22%3A%20%22%233388ff%22%2C%20%22dashArray%22%3A%20null%2C%20%22dashOffset%22%3A%20null%2C%20%22fill%22%3A%20false%2C%20%22fillColor%22%3A%20%22%233388ff%22%2C%20%22fillOpacity%22%3A%200.2%2C%20%22fillRule%22%3A%20%22evenodd%22%2C%20%22lineCap%22%3A%20%22round%22%2C%20%22lineJoin%22%3A%20%22round%22%2C%20%22noClip%22%3A%20false%2C%20%22opacity%22%3A%201.0%2C%20%22smoothFactor%22%3A%201.0%2C%20%22stroke%22%3A%20true%2C%20%22weight%22%3A%203%7D%0A%20%20%20%20%20%20%20%20%20%20%20%20%29.addTo%28map_4e384b88646345988cfcbf875b168aa2%29%3B%0A%20%20%20%20%20%20%20%20%0A%20%20%20%20%0A%20%20%20%20%20%20%20%20%20%20%20%20var%20poly_line_d58f0b718ba94cb4afcf9ea7d38bc278%20%3D%20L.polyline%28%0A%20%20%20%20%20%20%20%20%20%20%20%20%20%20%20%20%5B%5B42.7254505%2C%20-84.4720032%5D%2C%20%5B42.7255221%2C%20-84.4720381%5D%2C%20%5B42.7255933%2C%20-84.4720668%5D%2C%20%5B42.7256676%2C%20-84.4720892%5D%2C%20%5B42.7257234%2C%20-84.4721007%5D%2C%20%5B42.7257784%2C%20-84.472105%5D%2C%20%5B42.7258732%2C%20-84.4720999%5D%2C%20%5B42.725937%2C%20-84.4720866%5D%5D%2C%0A%20%20%20%20%20%20%20%20%20%20%20%20%20%20%20%20%7B%22bubblingMouseEvents%22%3A%20true%2C%20%22color%22%3A%20%22%233388ff%22%2C%20%22dashArray%22%3A%20null%2C%20%22dashOffset%22%3A%20null%2C%20%22fill%22%3A%20false%2C%20%22fillColor%22%3A%20%22%233388ff%22%2C%20%22fillOpacity%22%3A%200.2%2C%20%22fillRule%22%3A%20%22evenodd%22%2C%20%22lineCap%22%3A%20%22round%22%2C%20%22lineJoin%22%3A%20%22round%22%2C%20%22noClip%22%3A%20false%2C%20%22opacity%22%3A%201.0%2C%20%22smoothFactor%22%3A%201.0%2C%20%22stroke%22%3A%20true%2C%20%22weight%22%3A%203%7D%0A%20%20%20%20%20%20%20%20%20%20%20%20%29.addTo%28map_4e384b88646345988cfcbf875b168aa2%29%3B%0A%20%20%20%20%20%20%20%20%0A%20%20%20%20%0A%20%20%20%20%20%20%20%20%20%20%20%20var%20poly_line_b781dbde63fe47fea70f4bb4c69ae0ce%20%3D%20L.polyline%28%0A%20%20%20%20%20%20%20%20%20%20%20%20%20%20%20%20%5B%5B42.725937%2C%20-84.4720866%5D%2C%20%5B42.725979%2C%20-84.4722652%5D%2C%20%5B42.7260298%2C%20-84.472481%5D%2C%20%5B42.7260605%2C%20-84.4725978%5D%2C%20%5B42.7261024%2C%20-84.4727572%5D%2C%20%5B42.7261683%2C%20-84.4729631%5D%2C%20%5B42.7261899%2C%20-84.4730306%5D%2C%20%5B42.7262289%2C%20-84.4731858%5D%2C%20%5B42.726257%2C%20-84.473347%5D%2C%20%5B42.7262716%2C%20-84.4734965%5D%2C%20%5B42.7262732%2C%20-84.4736063%5D%2C%20%5B42.7262751%2C%20-84.4737408%5D%2C%20%5B42.7262559%2C%20-84.4739642%5D%2C%20%5B42.7262219%2C%20-84.4742226%5D%2C%20%5B42.7261817%2C%20-84.4745359%5D%2C%20%5B42.7261728%2C%20-84.4746047%5D%2C%20%5B42.7261252%2C%20-84.4749396%5D%2C%20%5B42.7261035%2C%20-84.4750777%5D%2C%20%5B42.7260864%2C%20-84.4752651%5D%2C%20%5B42.7260813%2C%20-84.4753211%5D%2C%20%5B42.7260746%2C%20-84.4753944%5D%2C%20%5B42.726066%2C%20-84.4754881%5D%2C%20%5B42.726051%2C%20-84.4756514%5D%2C%20%5B42.7260464%2C%20-84.4757187%5D%2C%20%5B42.7260361%2C%20-84.4758671%5D%2C%20%5B42.7260235%2C%20-84.4760399%5D%2C%20%5B42.7260182%2C%20-84.4762349%5D%2C%20%5B42.7260188%2C%20-84.4764105%5D%2C%20%5B42.7260192%2C%20-84.4765386%5D%5D%2C%0A%20%20%20%20%20%20%20%20%20%20%20%20%20%20%20%20%7B%22bubblingMouseEvents%22%3A%20true%2C%20%22color%22%3A%20%22%233388ff%22%2C%20%22dashArray%22%3A%20null%2C%20%22dashOffset%22%3A%20null%2C%20%22fill%22%3A%20false%2C%20%22fillColor%22%3A%20%22%233388ff%22%2C%20%22fillOpacity%22%3A%200.2%2C%20%22fillRule%22%3A%20%22evenodd%22%2C%20%22lineCap%22%3A%20%22round%22%2C%20%22lineJoin%22%3A%20%22round%22%2C%20%22noClip%22%3A%20false%2C%20%22opacity%22%3A%201.0%2C%20%22smoothFactor%22%3A%201.0%2C%20%22stroke%22%3A%20true%2C%20%22weight%22%3A%203%7D%0A%20%20%20%20%20%20%20%20%20%20%20%20%29.addTo%28map_4e384b88646345988cfcbf875b168aa2%29%3B%0A%20%20%20%20%20%20%20%20%0A%20%20%20%20%0A%20%20%20%20%20%20%20%20%20%20%20%20var%20poly_line_936978952ec947a99b9d0d881eb02040%20%3D%20L.polyline%28%0A%20%20%20%20%20%20%20%20%20%20%20%20%20%20%20%20%5B%5B42.7260192%2C%20-84.4765386%5D%2C%20%5B42.7260064%2C%20-84.4777778%5D%2C%20%5B42.726007%2C%20-84.4778977%5D%5D%2C%0A%20%20%20%20%20%20%20%20%20%20%20%20%20%20%20%20%7B%22bubblingMouseEvents%22%3A%20true%2C%20%22color%22%3A%20%22%233388ff%22%2C%20%22dashArray%22%3A%20null%2C%20%22dashOffset%22%3A%20null%2C%20%22fill%22%3A%20false%2C%20%22fillColor%22%3A%20%22%233388ff%22%2C%20%22fillOpacity%22%3A%200.2%2C%20%22fillRule%22%3A%20%22evenodd%22%2C%20%22lineCap%22%3A%20%22round%22%2C%20%22lineJoin%22%3A%20%22round%22%2C%20%22noClip%22%3A%20false%2C%20%22opacity%22%3A%201.0%2C%20%22smoothFactor%22%3A%201.0%2C%20%22stroke%22%3A%20true%2C%20%22weight%22%3A%203%7D%0A%20%20%20%20%20%20%20%20%20%20%20%20%29.addTo%28map_4e384b88646345988cfcbf875b168aa2%29%3B%0A%20%20%20%20%20%20%20%20%0A%20%20%20%20%0A%20%20%20%20%20%20%20%20%20%20%20%20var%20poly_line_315227d47c38485cacf217c12009990a%20%3D%20L.polyline%28%0A%20%20%20%20%20%20%20%20%20%20%20%20%20%20%20%20%5B%5B42.726007%2C%20-84.4778977%5D%2C%20%5B42.7260098%2C%20-84.4780492%5D%2C%20%5B42.7260211%2C%20-84.4789962%5D%2C%20%5B42.7260216%2C%20-84.4791184%5D%2C%20%5B42.7260241%2C%20-84.4797704%5D%2C%20%5B42.7260231%2C%20-84.4799939%5D%2C%20%5B42.726022%2C%20-84.4802329%5D%2C%20%5B42.7260176%2C%20-84.4809219%5D%2C%20%5B42.726015%2C%20-84.481325%5D%2C%20%5B42.725989%2C%20-84.481576%5D%2C%20%5B42.725903%2C%20-84.482057%5D%2C%20%5B42.7258625%2C%20-84.4822779%5D%5D%2C%0A%20%20%20%20%20%20%20%20%20%20%20%20%20%20%20%20%7B%22bubblingMouseEvents%22%3A%20true%2C%20%22color%22%3A%20%22%233388ff%22%2C%20%22dashArray%22%3A%20null%2C%20%22dashOffset%22%3A%20null%2C%20%22fill%22%3A%20false%2C%20%22fillColor%22%3A%20%22%233388ff%22%2C%20%22fillOpacity%22%3A%200.2%2C%20%22fillRule%22%3A%20%22evenodd%22%2C%20%22lineCap%22%3A%20%22round%22%2C%20%22lineJoin%22%3A%20%22round%22%2C%20%22noClip%22%3A%20false%2C%20%22opacity%22%3A%201.0%2C%20%22smoothFactor%22%3A%201.0%2C%20%22stroke%22%3A%20true%2C%20%22weight%22%3A%203%7D%0A%20%20%20%20%20%20%20%20%20%20%20%20%29.addTo%28map_4e384b88646345988cfcbf875b168aa2%29%3B%0A%20%20%20%20%20%20%20%20%0A%20%20%20%20%0A%20%20%20%20%20%20%20%20%20%20%20%20var%20poly_line_8de3c4901900421ca2dc93433a4c191c%20%3D%20L.polyline%28%0A%20%20%20%20%20%20%20%20%20%20%20%20%20%20%20%20%5B%5B42.7258625%2C%20-84.4822779%5D%2C%20%5B42.7255856%2C%20-84.4822889%5D%2C%20%5B42.725443%2C%20-84.482308%5D%5D%2C%0A%20%20%20%20%20%20%20%20%20%20%20%20%20%20%20%20%7B%22bubblingMouseEvents%22%3A%20true%2C%20%22color%22%3A%20%22%233388ff%22%2C%20%22dashArray%22%3A%20null%2C%20%22dashOffset%22%3A%20null%2C%20%22fill%22%3A%20false%2C%20%22fillColor%22%3A%20%22%233388ff%22%2C%20%22fillOpacity%22%3A%200.2%2C%20%22fillRule%22%3A%20%22evenodd%22%2C%20%22lineCap%22%3A%20%22round%22%2C%20%22lineJoin%22%3A%20%22round%22%2C%20%22noClip%22%3A%20false%2C%20%22opacity%22%3A%201.0%2C%20%22smoothFactor%22%3A%201.0%2C%20%22stroke%22%3A%20true%2C%20%22weight%22%3A%203%7D%0A%20%20%20%20%20%20%20%20%20%20%20%20%29.addTo%28map_4e384b88646345988cfcbf875b168aa2%29%3B%0A%20%20%20%20%20%20%20%20%0A%20%20%20%20%0A%20%20%20%20%20%20%20%20%20%20%20%20map_4e384b88646345988cfcbf875b168aa2.fitBounds%28%0A%20%20%20%20%20%20%20%20%20%20%20%20%20%20%20%20%5B%5B42.7249256%2C%20-84.482308%5D%2C%20%5B42.7262751%2C%20-84.4717447%5D%5D%2C%0A%20%20%20%20%20%20%20%20%20%20%20%20%20%20%20%20%7B%7D%0A%20%20%20%20%20%20%20%20%20%20%20%20%29%3B%0A%20%20%20%20%20%20%20%20%0A%3C/script%3E onload=\"this.contentDocument.open();this.contentDocument.write(    decodeURIComponent(this.getAttribute('data-html')));this.contentDocument.close();\" allowfullscreen webkitallowfullscreen mozallowfullscreen></iframe></div></div>"
      ],
      "text/plain": [
       "<folium.folium.Map at 0x7f557f21ed90>"
      ]
     },
     "metadata": {},
     "output_type": "display_data"
    }
   ],
   "source": [
    "display(ox.plot_route_folium(G, route))"
   ]
  },
  {
   "cell_type": "markdown",
   "id": "eff9a6ca",
   "metadata": {},
   "source": [
    "Of the two plotting methods, folium is clearly more user friendly with its inclusion of road names and ability to zoom in. "
   ]
  },
  {
   "cell_type": "markdown",
   "id": "742f57cf",
   "metadata": {},
   "source": [
    "### Stop!"
   ]
  },
  {
   "cell_type": "markdown",
   "id": "4e81441c",
   "metadata": {},
   "source": [
    "Before putting everything together, we need an interface for the user. The function below asks the user for their planned route, method of travel, and whether they would like to minimize time or distance."
   ]
  },
  {
   "cell_type": "markdown",
   "id": "22e3faf3",
   "metadata": {},
   "source": [
    "### Run the cell below."
   ]
  },
  {
   "cell_type": "code",
   "execution_count": 10,
   "id": "27d0609c",
   "metadata": {},
   "outputs": [],
   "source": [
    "def user_interface():\n",
    "    '''\n",
    "    User interface function\n",
    "    inputs: \n",
    "        start_loc: The starting location as a string\n",
    "        end_loc: The ending location as a string\n",
    "        method: Method of travel as a string. Takes 'drive' or 'walk'\n",
    "        strategy: Strategy for selection the route. Takes 'distance' or 'time'\n",
    "        \n",
    "    outputs:\n",
    "        start_coordinates: The starting coordinates as a tuple\n",
    "        end_coordinates: The ending coordinates as a tuple\n",
    "        method: Method of travel as a string\n",
    "        strategy: Minimization strategy as a string\n",
    "    \n",
    "    '''\n",
    "    loc = Nominatim(user_agent=\"GetLoc\")  # calls an application that contains locations by their names\n",
    "    \n",
    "    # creates lists that are used to repeated ask for inputs until valid inputs are given\n",
    "    start_fix_inputs = [0]   \n",
    "    end_fix_inputs = [0]\n",
    "    method_fix_inputs = [0]\n",
    "    strategy_fix_inputs = [0]\n",
    "    \n",
    "    # asks for the starting location \n",
    "    for val in start_fix_inputs: \n",
    "        start_loc = input('Starting Location: ')\n",
    "        start_address, start_coordinates, getLoc_start = getCoordinates(start_loc) # gets starting coordinates\n",
    "        if getLoc_start is None:\n",
    "            print(\"Error! Please enter a valid starting location.\")\n",
    "            start_fix_inputs.append(0)\n",
    "            \n",
    "   # asks for the ending location\n",
    "    for val in end_fix_inputs:\n",
    "        end_loc = input('Ending Location:')\n",
    "        end_address, end_coordinates, getLoc_end = getCoordinates(end_loc)  # gets ending coordinates\n",
    "        if getLoc_end is None:\n",
    "            print(\"Error! Please enter a valid ending location.\")\n",
    "            end_fix_inputs.append(0)\n",
    "    \n",
    "    # asks for method of travel\n",
    "    for val in method_fix_inputs:\n",
    "        method = input(\"Method of travel (drive,walk): \")  \n",
    "        if method != \"drive\" and method != \"walk\":\n",
    "            print(\"Error! Please enter a valid method of travel\")\n",
    "            method_fix_inputs.append(0)\n",
    "            \n",
    "    # asks for minimization strategy\n",
    "    for val in strategy_fix_inputs:\n",
    "        strategy = input(\"What do you want to minimize? (time,distance): \")\n",
    "        if strategy != \"time\" and strategy != \"distance\":\n",
    "            print(\"Error! Please enter a valid minimization strategy\")\n",
    "            strategy_fix_inputs.append(0)\n",
    "    return start_coordinates, end_coordinates, method, strategy"
   ]
  },
  {
   "cell_type": "markdown",
   "id": "4e4c453e",
   "metadata": {},
   "source": [
    "### Stop!"
   ]
  },
  {
   "cell_type": "markdown",
   "id": "d79f2b16",
   "metadata": {},
   "source": [
    "## 3 Results"
   ]
  },
  {
   "cell_type": "markdown",
   "id": "97bd001a",
   "metadata": {},
   "source": [
    "Now that all of the groundwork has been layed, all that is left is to put everything together. The function find_route prompts the user for inputs and creates a graph accordingly. The function also outputs expected time and distance."
   ]
  },
  {
   "cell_type": "markdown",
   "id": "9c86ccaf",
   "metadata": {},
   "source": [
    "### Run the cell below."
   ]
  },
  {
   "cell_type": "code",
   "execution_count": 11,
   "id": "ce5e40c5",
   "metadata": {},
   "outputs": [],
   "source": [
    "def find_route():\n",
    "    '''\n",
    "    Finds and plots the shortest route from the starting to ending location in a follium map\n",
    "    \n",
    "    inputs:\n",
    "        start_loc: The starting location as a string\n",
    "        end_loc: The ending location as a string\n",
    "        method: Method of travel as a string. Takes 'drive' or 'walk'\n",
    "        strategy: Strategy for selection the route. Takes 'distance' or 'time'\n",
    "    \n",
    "    outputs:\n",
    "        returns a follium graph that contains the shortest route\n",
    "    '''\n",
    "    start_coordinates, end_coordinates, method, strategy = user_interface() # This calls the user_interface function from before\n",
    "    \n",
    "    G = ox.graph_from_point((42.72184876143654, -84.48878571939379), dist=5000, network_type=method) # Initializes the graph\n",
    "\n",
    "    orig_node = ox.nearest_nodes(G, start_coordinates[1], start_coordinates[0]) # Start node\n",
    "    target_node = ox.nearest_nodes(G, end_coordinates[1], end_coordinates[0]) # End node\n",
    "    \n",
    "    route = nx.shortest_path(G,\n",
    "                         orig_node,\n",
    "                         target_node, weight= strategy) # Creates the route\n",
    "    \n",
    "    time = nx.shortest_path_length(G,\n",
    "                         orig_node,\n",
    "                         target_node, weight= \"time\") # Estimate of travel time\n",
    "    \n",
    "    print(\"Time to destination:\", time, \"minutes\") # Prints estimated travel time\n",
    "    \n",
    "    distance = nx.shortest_path_length(G,\n",
    "                         orig_node,\n",
    "                         target_node, weight= \"length\")  # Estimate of total distance\n",
    "    \n",
    "    print(\"Distance to destination:\", distance, \"meters\") # Prints total traveled distance\n",
    "    display(ox.plot_route_folium(G, route)) # Plots the graph"
   ]
  },
  {
   "cell_type": "markdown",
   "id": "eb12fbab",
   "metadata": {},
   "source": [
    "### Stop!"
   ]
  },
  {
   "cell_type": "markdown",
   "id": "0073c6de",
   "metadata": {},
   "source": [
    "To see how the user interface works, run the cell below and respond to the prompts as follows:\n",
    "- Starting Location: The Rock \n",
    "- Ending Location: Spartan Statue\n",
    "- Method of travel: drive\n",
    "- Minimize Time or Distance?: time\n",
    "\n",
    "After doing this, re-run the cell while entering Geoff Boeing as inputs at each step to see how the interface handles locations, methods of travel, or strategies that don't exist. After an error is returned, enter the following:\n",
    "- Starting Location: Spartan Statue\n",
    "- Ending Location: The Rock\n",
    "- Method of travel: drive\n",
    "- Minimize Time or Distance?: distance"
   ]
  },
  {
   "cell_type": "markdown",
   "id": "d1500a87",
   "metadata": {},
   "source": [
    "### Run the following cell twice as specified above."
   ]
  },
  {
   "cell_type": "code",
   "execution_count": 12,
   "id": "e0e48348",
   "metadata": {},
   "outputs": [
    {
     "name": "stdout",
     "output_type": "stream",
     "text": [
      "Starting Location: Spartan Statue\n",
      "Ending Location:The Rock\n",
      "Method of travel (drive,walk): drive\n",
      "What do you want to minimize? (time,distance): distance\n",
      "Time to destination: 5 minutes\n",
      "Distance to destination: 1063.9260000000002 meters\n"
     ]
    },
    {
     "data": {
      "text/html": [
       "<div style=\"width:100%;\"><div style=\"position:relative;width:100%;height:0;padding-bottom:60%;\"><span style=\"color:#565656\">Make this Notebook Trusted to load map: File -> Trust Notebook</span><iframe src=\"about:blank\" style=\"position:absolute;width:100%;height:100%;left:0;top:0;border:none !important;\" data-html=%3C%21DOCTYPE%20html%3E%0A%3Chead%3E%20%20%20%20%0A%20%20%20%20%3Cmeta%20http-equiv%3D%22content-type%22%20content%3D%22text/html%3B%20charset%3DUTF-8%22%20/%3E%0A%20%20%20%20%0A%20%20%20%20%20%20%20%20%3Cscript%3E%0A%20%20%20%20%20%20%20%20%20%20%20%20L_NO_TOUCH%20%3D%20false%3B%0A%20%20%20%20%20%20%20%20%20%20%20%20L_DISABLE_3D%20%3D%20false%3B%0A%20%20%20%20%20%20%20%20%3C/script%3E%0A%20%20%20%20%0A%20%20%20%20%3Cstyle%3Ehtml%2C%20body%20%7Bwidth%3A%20100%25%3Bheight%3A%20100%25%3Bmargin%3A%200%3Bpadding%3A%200%3B%7D%3C/style%3E%0A%20%20%20%20%3Cstyle%3E%23map%20%7Bposition%3Aabsolute%3Btop%3A0%3Bbottom%3A0%3Bright%3A0%3Bleft%3A0%3B%7D%3C/style%3E%0A%20%20%20%20%3Cscript%20src%3D%22https%3A//cdn.jsdelivr.net/npm/leaflet%401.6.0/dist/leaflet.js%22%3E%3C/script%3E%0A%20%20%20%20%3Cscript%20src%3D%22https%3A//code.jquery.com/jquery-1.12.4.min.js%22%3E%3C/script%3E%0A%20%20%20%20%3Cscript%20src%3D%22https%3A//maxcdn.bootstrapcdn.com/bootstrap/3.2.0/js/bootstrap.min.js%22%3E%3C/script%3E%0A%20%20%20%20%3Cscript%20src%3D%22https%3A//cdnjs.cloudflare.com/ajax/libs/Leaflet.awesome-markers/2.0.2/leaflet.awesome-markers.js%22%3E%3C/script%3E%0A%20%20%20%20%3Clink%20rel%3D%22stylesheet%22%20href%3D%22https%3A//cdn.jsdelivr.net/npm/leaflet%401.6.0/dist/leaflet.css%22/%3E%0A%20%20%20%20%3Clink%20rel%3D%22stylesheet%22%20href%3D%22https%3A//maxcdn.bootstrapcdn.com/bootstrap/3.2.0/css/bootstrap.min.css%22/%3E%0A%20%20%20%20%3Clink%20rel%3D%22stylesheet%22%20href%3D%22https%3A//maxcdn.bootstrapcdn.com/bootstrap/3.2.0/css/bootstrap-theme.min.css%22/%3E%0A%20%20%20%20%3Clink%20rel%3D%22stylesheet%22%20href%3D%22https%3A//maxcdn.bootstrapcdn.com/font-awesome/4.6.3/css/font-awesome.min.css%22/%3E%0A%20%20%20%20%3Clink%20rel%3D%22stylesheet%22%20href%3D%22https%3A//cdnjs.cloudflare.com/ajax/libs/Leaflet.awesome-markers/2.0.2/leaflet.awesome-markers.css%22/%3E%0A%20%20%20%20%3Clink%20rel%3D%22stylesheet%22%20href%3D%22https%3A//cdn.jsdelivr.net/gh/python-visualization/folium/folium/templates/leaflet.awesome.rotate.min.css%22/%3E%0A%20%20%20%20%0A%20%20%20%20%20%20%20%20%20%20%20%20%3Cmeta%20name%3D%22viewport%22%20content%3D%22width%3Ddevice-width%2C%0A%20%20%20%20%20%20%20%20%20%20%20%20%20%20%20%20initial-scale%3D1.0%2C%20maximum-scale%3D1.0%2C%20user-scalable%3Dno%22%20/%3E%0A%20%20%20%20%20%20%20%20%20%20%20%20%3Cstyle%3E%0A%20%20%20%20%20%20%20%20%20%20%20%20%20%20%20%20%23map_3d3a046d7b0e4262a2ab863f6d18a6fb%20%7B%0A%20%20%20%20%20%20%20%20%20%20%20%20%20%20%20%20%20%20%20%20position%3A%20relative%3B%0A%20%20%20%20%20%20%20%20%20%20%20%20%20%20%20%20%20%20%20%20width%3A%20100.0%25%3B%0A%20%20%20%20%20%20%20%20%20%20%20%20%20%20%20%20%20%20%20%20height%3A%20100.0%25%3B%0A%20%20%20%20%20%20%20%20%20%20%20%20%20%20%20%20%20%20%20%20left%3A%200.0%25%3B%0A%20%20%20%20%20%20%20%20%20%20%20%20%20%20%20%20%20%20%20%20top%3A%200.0%25%3B%0A%20%20%20%20%20%20%20%20%20%20%20%20%20%20%20%20%7D%0A%20%20%20%20%20%20%20%20%20%20%20%20%3C/style%3E%0A%20%20%20%20%20%20%20%20%0A%3C/head%3E%0A%3Cbody%3E%20%20%20%20%0A%20%20%20%20%0A%20%20%20%20%20%20%20%20%20%20%20%20%3Cdiv%20class%3D%22folium-map%22%20id%3D%22map_3d3a046d7b0e4262a2ab863f6d18a6fb%22%20%3E%3C/div%3E%0A%20%20%20%20%20%20%20%20%0A%3C/body%3E%0A%3Cscript%3E%20%20%20%20%0A%20%20%20%20%0A%20%20%20%20%20%20%20%20%20%20%20%20var%20map_3d3a046d7b0e4262a2ab863f6d18a6fb%20%3D%20L.map%28%0A%20%20%20%20%20%20%20%20%20%20%20%20%20%20%20%20%22map_3d3a046d7b0e4262a2ab863f6d18a6fb%22%2C%0A%20%20%20%20%20%20%20%20%20%20%20%20%20%20%20%20%7B%0A%20%20%20%20%20%20%20%20%20%20%20%20%20%20%20%20%20%20%20%20center%3A%20%5B42.73103265956309%2C%20-84.48247708983114%5D%2C%0A%20%20%20%20%20%20%20%20%20%20%20%20%20%20%20%20%20%20%20%20crs%3A%20L.CRS.EPSG3857%2C%0A%20%20%20%20%20%20%20%20%20%20%20%20%20%20%20%20%20%20%20%20zoom%3A%201%2C%0A%20%20%20%20%20%20%20%20%20%20%20%20%20%20%20%20%20%20%20%20zoomControl%3A%20true%2C%0A%20%20%20%20%20%20%20%20%20%20%20%20%20%20%20%20%20%20%20%20preferCanvas%3A%20false%2C%0A%20%20%20%20%20%20%20%20%20%20%20%20%20%20%20%20%7D%0A%20%20%20%20%20%20%20%20%20%20%20%20%29%3B%0A%0A%20%20%20%20%20%20%20%20%20%20%20%20%0A%0A%20%20%20%20%20%20%20%20%0A%20%20%20%20%0A%20%20%20%20%20%20%20%20%20%20%20%20var%20tile_layer_5b24a038832a4e86b232db1e9a0c5438%20%3D%20L.tileLayer%28%0A%20%20%20%20%20%20%20%20%20%20%20%20%20%20%20%20%22https%3A//cartodb-basemaps-%7Bs%7D.global.ssl.fastly.net/light_all/%7Bz%7D/%7Bx%7D/%7By%7D.png%22%2C%0A%20%20%20%20%20%20%20%20%20%20%20%20%20%20%20%20%7B%22attribution%22%3A%20%22%5Cu0026copy%3B%20%5Cu003ca%20href%3D%5C%22http%3A//www.openstreetmap.org/copyright%5C%22%5Cu003eOpenStreetMap%5Cu003c/a%5Cu003e%20contributors%20%5Cu0026copy%3B%20%5Cu003ca%20href%3D%5C%22http%3A//cartodb.com/attributions%5C%22%5Cu003eCartoDB%5Cu003c/a%5Cu003e%2C%20CartoDB%20%5Cu003ca%20href%20%3D%5C%22http%3A//cartodb.com/attributions%5C%22%5Cu003eattributions%5Cu003c/a%5Cu003e%22%2C%20%22detectRetina%22%3A%20false%2C%20%22maxNativeZoom%22%3A%2018%2C%20%22maxZoom%22%3A%2018%2C%20%22minZoom%22%3A%200%2C%20%22noWrap%22%3A%20false%2C%20%22opacity%22%3A%201%2C%20%22subdomains%22%3A%20%22abc%22%2C%20%22tms%22%3A%20false%7D%0A%20%20%20%20%20%20%20%20%20%20%20%20%29.addTo%28map_3d3a046d7b0e4262a2ab863f6d18a6fb%29%3B%0A%20%20%20%20%20%20%20%20%0A%20%20%20%20%0A%20%20%20%20%20%20%20%20%20%20%20%20var%20poly_line_80806ccc59a343519f12c634a32d1462%20%3D%20L.polyline%28%0A%20%20%20%20%20%20%20%20%20%20%20%20%20%20%20%20%5B%5B42.7312538%2C%20-84.4873685%5D%2C%20%5B42.7313125%2C%20-84.4873153%5D%2C%20%5B42.7313357%2C%20-84.4872943%5D%2C%20%5B42.7315588%2C%20-84.4870973%5D%2C%20%5B42.7317873%2C%20-84.4868955%5D%2C%20%5B42.7320672%2C%20-84.4866483%5D%2C%20%5B42.7322053%2C%20-84.4865474%5D%2C%20%5B42.7322855%2C%20-84.4865066%5D%2C%20%5B42.7323379%2C%20-84.4865008%5D%5D%2C%0A%20%20%20%20%20%20%20%20%20%20%20%20%20%20%20%20%7B%22bubblingMouseEvents%22%3A%20true%2C%20%22color%22%3A%20%22%233388ff%22%2C%20%22dashArray%22%3A%20null%2C%20%22dashOffset%22%3A%20null%2C%20%22fill%22%3A%20false%2C%20%22fillColor%22%3A%20%22%233388ff%22%2C%20%22fillOpacity%22%3A%200.2%2C%20%22fillRule%22%3A%20%22evenodd%22%2C%20%22lineCap%22%3A%20%22round%22%2C%20%22lineJoin%22%3A%20%22round%22%2C%20%22noClip%22%3A%20false%2C%20%22opacity%22%3A%201.0%2C%20%22smoothFactor%22%3A%201.0%2C%20%22stroke%22%3A%20true%2C%20%22weight%22%3A%203%7D%0A%20%20%20%20%20%20%20%20%20%20%20%20%29.addTo%28map_3d3a046d7b0e4262a2ab863f6d18a6fb%29%3B%0A%20%20%20%20%20%20%20%20%0A%20%20%20%20%0A%20%20%20%20%20%20%20%20%20%20%20%20var%20poly_line_8a01359cf8a1453e80753b419db9f538%20%3D%20L.polyline%28%0A%20%20%20%20%20%20%20%20%20%20%20%20%20%20%20%20%5B%5B42.7323379%2C%20-84.4865008%5D%2C%20%5B42.7323408%2C%20-84.4864003%5D%2C%20%5B42.7323401%2C%20-84.4863182%5D%2C%20%5B42.7323302%2C%20-84.4862493%5D%2C%20%5B42.7322789%2C%20-84.4860878%5D%2C%20%5B42.731983%2C%20-84.485404%5D%2C%20%5B42.731933%2C%20-84.485261%5D%2C%20%5B42.7318908%2C%20-84.4850711%5D%2C%20%5B42.731879%2C%20-84.485018%5D%2C%20%5B42.731855%2C%20-84.484815%5D%2C%20%5B42.731834%2C%20-84.484405%5D%2C%20%5B42.731835%2C%20-84.484113%5D%2C%20%5B42.7318352%2C%20-84.4839364%5D%2C%20%5B42.7318259%2C%20-84.4835948%5D%2C%20%5B42.7317927%2C%20-84.4831327%5D%2C%20%5B42.7317255%2C%20-84.4829012%5D%2C%20%5B42.7316274%2C%20-84.4827155%5D%2C%20%5B42.7312224%2C%20-84.4822706%5D%2C%20%5B42.7311322%2C%20-84.4821328%5D%2C%20%5B42.7310985%2C%20-84.4820701%5D%2C%20%5B42.7310419%2C%20-84.4819554%5D%2C%20%5B42.7309939%2C%20-84.4818407%5D%2C%20%5B42.730949%2C%20-84.4817118%5D%2C%20%5B42.7309145%2C%20-84.4815857%5D%2C%20%5B42.730895%2C%20-84.4814451%5D%2C%20%5B42.7308886%2C%20-84.4813204%5D%2C%20%5B42.7308954%2C%20-84.4812193%5D%2C%20%5B42.7309157%2C%20-84.4810915%5D%2C%20%5B42.7309507%2C%20-84.4809744%5D%2C%20%5B42.7310146%2C%20-84.4808324%5D%2C%20%5B42.7310879%2C%20-84.4807025%5D%2C%20%5B42.7311501%2C%20-84.4805868%5D%5D%2C%0A%20%20%20%20%20%20%20%20%20%20%20%20%20%20%20%20%7B%22bubblingMouseEvents%22%3A%20true%2C%20%22color%22%3A%20%22%233388ff%22%2C%20%22dashArray%22%3A%20null%2C%20%22dashOffset%22%3A%20null%2C%20%22fill%22%3A%20false%2C%20%22fillColor%22%3A%20%22%233388ff%22%2C%20%22fillOpacity%22%3A%200.2%2C%20%22fillRule%22%3A%20%22evenodd%22%2C%20%22lineCap%22%3A%20%22round%22%2C%20%22lineJoin%22%3A%20%22round%22%2C%20%22noClip%22%3A%20false%2C%20%22opacity%22%3A%201.0%2C%20%22smoothFactor%22%3A%201.0%2C%20%22stroke%22%3A%20true%2C%20%22weight%22%3A%203%7D%0A%20%20%20%20%20%20%20%20%20%20%20%20%29.addTo%28map_3d3a046d7b0e4262a2ab863f6d18a6fb%29%3B%0A%20%20%20%20%20%20%20%20%0A%20%20%20%20%0A%20%20%20%20%20%20%20%20%20%20%20%20var%20poly_line_54d4a241801644388175bdd97f64bccb%20%3D%20L.polyline%28%0A%20%20%20%20%20%20%20%20%20%20%20%20%20%20%20%20%5B%5B42.7311501%2C%20-84.4805868%5D%2C%20%5B42.7310713%2C%20-84.4804892%5D%2C%20%5B42.7307493%2C%20-84.4800898%5D%5D%2C%0A%20%20%20%20%20%20%20%20%20%20%20%20%20%20%20%20%7B%22bubblingMouseEvents%22%3A%20true%2C%20%22color%22%3A%20%22%233388ff%22%2C%20%22dashArray%22%3A%20null%2C%20%22dashOffset%22%3A%20null%2C%20%22fill%22%3A%20false%2C%20%22fillColor%22%3A%20%22%233388ff%22%2C%20%22fillOpacity%22%3A%200.2%2C%20%22fillRule%22%3A%20%22evenodd%22%2C%20%22lineCap%22%3A%20%22round%22%2C%20%22lineJoin%22%3A%20%22round%22%2C%20%22noClip%22%3A%20false%2C%20%22opacity%22%3A%201.0%2C%20%22smoothFactor%22%3A%201.0%2C%20%22stroke%22%3A%20true%2C%20%22weight%22%3A%203%7D%0A%20%20%20%20%20%20%20%20%20%20%20%20%29.addTo%28map_3d3a046d7b0e4262a2ab863f6d18a6fb%29%3B%0A%20%20%20%20%20%20%20%20%0A%20%20%20%20%0A%20%20%20%20%20%20%20%20%20%20%20%20var%20poly_line_9cb5ed9e03f943b6a81b1918d06dfbcc%20%3D%20L.polyline%28%0A%20%20%20%20%20%20%20%20%20%20%20%20%20%20%20%20%5B%5B42.7307493%2C%20-84.4800898%5D%2C%20%5B42.7306482%2C%20-84.479961%5D%2C%20%5B42.73057%2C%20-84.4798428%5D%2C%20%5B42.7305431%2C%20-84.4797889%5D%2C%20%5B42.7305096%2C%20-84.4797425%5D%2C%20%5B42.7304705%2C%20-84.479705%5D%2C%20%5B42.7304363%2C%20-84.4796825%5D%2C%20%5B42.7304%2C%20-84.4796668%5D%2C%20%5B42.7303625%2C%20-84.4796583%5D%2C%20%5B42.7299685%2C%20-84.4796552%5D%2C%20%5B42.7298977%2C%20-84.4796546%5D%2C%20%5B42.7294434%2C%20-84.4796509%5D%2C%20%5B42.7293172%2C%20-84.4796499%5D%2C%20%5B42.7293067%2C%20-84.4793856%5D%5D%2C%0A%20%20%20%20%20%20%20%20%20%20%20%20%20%20%20%20%7B%22bubblingMouseEvents%22%3A%20true%2C%20%22color%22%3A%20%22%233388ff%22%2C%20%22dashArray%22%3A%20null%2C%20%22dashOffset%22%3A%20null%2C%20%22fill%22%3A%20false%2C%20%22fillColor%22%3A%20%22%233388ff%22%2C%20%22fillOpacity%22%3A%200.2%2C%20%22fillRule%22%3A%20%22evenodd%22%2C%20%22lineCap%22%3A%20%22round%22%2C%20%22lineJoin%22%3A%20%22round%22%2C%20%22noClip%22%3A%20false%2C%20%22opacity%22%3A%201.0%2C%20%22smoothFactor%22%3A%201.0%2C%20%22stroke%22%3A%20true%2C%20%22weight%22%3A%203%7D%0A%20%20%20%20%20%20%20%20%20%20%20%20%29.addTo%28map_3d3a046d7b0e4262a2ab863f6d18a6fb%29%3B%0A%20%20%20%20%20%20%20%20%0A%20%20%20%20%0A%20%20%20%20%20%20%20%20%20%20%20%20var%20poly_line_76d6193dbf914ddca9b1531d3b331867%20%3D%20L.polyline%28%0A%20%20%20%20%20%20%20%20%20%20%20%20%20%20%20%20%5B%5B42.7293067%2C%20-84.4793856%5D%2C%20%5B42.7293016%2C%20-84.479259%5D%2C%20%5B42.7292886%2C%20-84.4791533%5D%2C%20%5B42.7292675%2C%20-84.4787505%5D%2C%20%5B42.7292645%2C%20-84.4780257%5D%2C%20%5B42.7292694%2C%20-84.4778315%5D%5D%2C%0A%20%20%20%20%20%20%20%20%20%20%20%20%20%20%20%20%7B%22bubblingMouseEvents%22%3A%20true%2C%20%22color%22%3A%20%22%233388ff%22%2C%20%22dashArray%22%3A%20null%2C%20%22dashOffset%22%3A%20null%2C%20%22fill%22%3A%20false%2C%20%22fillColor%22%3A%20%22%233388ff%22%2C%20%22fillOpacity%22%3A%200.2%2C%20%22fillRule%22%3A%20%22evenodd%22%2C%20%22lineCap%22%3A%20%22round%22%2C%20%22lineJoin%22%3A%20%22round%22%2C%20%22noClip%22%3A%20false%2C%20%22opacity%22%3A%201.0%2C%20%22smoothFactor%22%3A%201.0%2C%20%22stroke%22%3A%20true%2C%20%22weight%22%3A%203%7D%0A%20%20%20%20%20%20%20%20%20%20%20%20%29.addTo%28map_3d3a046d7b0e4262a2ab863f6d18a6fb%29%3B%0A%20%20%20%20%20%20%20%20%0A%20%20%20%20%0A%20%20%20%20%20%20%20%20%20%20%20%20map_3d3a046d7b0e4262a2ab863f6d18a6fb.fitBounds%28%0A%20%20%20%20%20%20%20%20%20%20%20%20%20%20%20%20%5B%5B42.7292645%2C%20-84.4873685%5D%2C%20%5B42.7323408%2C%20-84.4778315%5D%5D%2C%0A%20%20%20%20%20%20%20%20%20%20%20%20%20%20%20%20%7B%7D%0A%20%20%20%20%20%20%20%20%20%20%20%20%29%3B%0A%20%20%20%20%20%20%20%20%0A%3C/script%3E onload=\"this.contentDocument.open();this.contentDocument.write(    decodeURIComponent(this.getAttribute('data-html')));this.contentDocument.close();\" allowfullscreen webkitallowfullscreen mozallowfullscreen></iframe></div></div>"
      ],
      "text/plain": [
       "<folium.folium.Map at 0x7f54eeb5d1f0>"
      ]
     },
     "metadata": {},
     "output_type": "display_data"
    }
   ],
   "source": [
    "find_route()"
   ]
  },
  {
   "cell_type": "markdown",
   "id": "52b78b8d",
   "metadata": {},
   "source": [
    "As we can see, the order of locations is important because of the 1-way roads on campus. Additionally, we see the user interface in action when incorrect inputs are entered. "
   ]
  },
  {
   "cell_type": "markdown",
   "id": "d04fd334",
   "metadata": {},
   "source": [
    "### Stop!"
   ]
  },
  {
   "cell_type": "markdown",
   "id": "5050e938",
   "metadata": {},
   "source": [
    "## 4 Discussion and Conclusion"
   ]
  },
  {
   "cell_type": "markdown",
   "id": "ac28b0b6",
   "metadata": {},
   "source": [
    "Our group was able to successfully develop a user-friendly map that identifies the shortest route between two locations within East Lansing and on MSU’s campus. We are familiar with the basic use of OSMnx, Networkx and Folium. We were able to build upon our knowledge of these packages and their interactions with one another through this project. Additionally, we were able to expand their uses outside of what we learned in the classroom. Lastly, we learned about and utilized a new-to-us package called Geopy. \n",
    "\n",
    "There were a few difficulties we ran into when developing our code. The first is that the nodes list in OSMnx is non-exhaustive. Nodes between the start and end location were occasionally spread out so the connections between them are not always the most direct path. This caused some discrepancies in what would be the “shortest” path with our packages compared to what other websites may say. Another complication we ran into was trying to use live traffic data. We were initially planning on incorporating this into our code but it required the use of javascript, a language unfamiliar to us. The traffic data known to us in Python was behind an expensive paywall and therefore, inaccessible. Lastly, the run time of producing the graphs for OSMnx and Folium were long but manageable. \n",
    " \n",
    "Using Geopy, we were able to identify the latitudes and longitudes of user inputted locations. This was then able to connect to Networkx by identifying the nearest nodes to these locations and then plotting them on a basic graph using OSMnx. These graphs were not the most user-friendly though and we combatted this using Folium. Folium allows the user to zoom in and out, while also seeing other landmarks near their routes.\n",
    "\n",
    "While identifying the shortest path is helpful, we know there are different “shortest paths” depending on the user's preference of travel method. Therefore, we added additional features which allowed the user to identify how they wanted to travel (drive or walk) and whether they wanted to minimize the travel distance or the amount of time.\n",
    "\n",
    "In conclusion, we were able to produce our user-friendly graph while placing checks throughout the code to ensure no user-errors occurred. If an error was returned, we developed a user-friendly way to describe what the error was and what correction the user had to make in order to produce an appropriate graph."
   ]
  },
  {
   "cell_type": "markdown",
   "id": "b4ae27e1",
   "metadata": {},
   "source": [
    "### References"
   ]
  },
  {
   "cell_type": "markdown",
   "id": "06d65d70",
   "metadata": {},
   "source": [
    "OSMnx Python for Street Networks: https://geoffboeing.com/2016/11/osmnx-python-street-networks/\n",
    "\n",
    "\n",
    "\n",
    "\n",
    "OSMnx User Guide: https://osmnx.readthedocs.io/en/stable/osmnx.html\n",
    "\n",
    "\n",
    "\n",
    "\n",
    "Geoff Boeing OSMnx Github Tutorials: https://github.com/gboeing/osmnx-examples/tree/main/notebooks\n",
    "\n",
    "\n",
    "\n",
    "Representing Distance: https://towardsdatascience.com/driving-distance-between-two-or-more-places-in-python-89779d691def\n",
    "\n",
    "\n"
   ]
  }
 ],
 "metadata": {
  "kernelspec": {
   "display_name": "Python 3",
   "language": "python",
   "name": "python3"
  },
  "language_info": {
   "codemirror_mode": {
    "name": "ipython",
    "version": 3
   },
   "file_extension": ".py",
   "mimetype": "text/x-python",
   "name": "python",
   "nbconvert_exporter": "python",
   "pygments_lexer": "ipython3",
   "version": "3.8.8"
  }
 },
 "nbformat": 4,
 "nbformat_minor": 5
}
