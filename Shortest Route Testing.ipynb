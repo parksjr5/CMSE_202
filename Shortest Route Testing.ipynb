{
 "cells": [
  {
   "cell_type": "code",
   "execution_count": null,
   "id": "4ed781de",
   "metadata": {},
   "outputs": [],
   "source": [
    "# ! pip install osmnx"
   ]
  },
  {
   "cell_type": "code",
   "execution_count": null,
   "id": "ec865a52",
   "metadata": {},
   "outputs": [],
   "source": [
    "# imports\n",
    "import osmnx as ox\n",
    "import folium\n",
    "import networkx as nx\n",
    "import numpy as np\n",
    "from geopy.geocoders import Nominatim"
   ]
  },
  {
   "cell_type": "code",
   "execution_count": null,
   "id": "e67cb14e",
   "metadata": {},
   "outputs": [],
   "source": []
  },
  {
   "cell_type": "code",
   "execution_count": null,
   "id": "98e39124",
   "metadata": {},
   "outputs": [],
   "source": [
    "# basic graphing\n",
    "place = (42.72184876143654, -84.48878571939379)\n",
    "G = ox.graph_from_point(place, dist=5000, network_type='drive')\n",
    "# ox.plot_graph(G)\n",
    "\n",
    "start = (42.7240569042893, -84.470615171598)\n",
    "end =(42.72507741134227, -84.48132919519877)\n",
    "\n",
    "orig_node = ox.get_nearest_node(G, start)\n",
    "target_node = ox.get_nearest_node(G, end)\n",
    "\n",
    "route = nx.shortest_path(G,\n",
    "                         orig_node,\n",
    "                         target_node, weight='travel_time')\n",
    "\n",
    "# route = ox.shortest_path(G = G, orig = orig_node, dest = target_node)\n",
    "ox.plot_route_folium(G, route)"
   ]
  },
  {
   "cell_type": "code",
   "execution_count": null,
   "id": "75ef1c27",
   "metadata": {},
   "outputs": [],
   "source": [
    "G.edges()"
   ]
  },
  {
   "cell_type": "code",
   "execution_count": null,
   "id": "82091188",
   "metadata": {},
   "outputs": [],
   "source": [
    "# help(folium)"
   ]
  },
  {
   "cell_type": "code",
   "execution_count": null,
   "id": "83a942ea",
   "metadata": {},
   "outputs": [],
   "source": [
    "# how to get the nodes out\n",
    "G.nodes"
   ]
  },
  {
   "cell_type": "code",
   "execution_count": null,
   "id": "47e05ba7",
   "metadata": {},
   "outputs": [],
   "source": [
    "# how to get node attributes\n",
    "display(G.nodes[42423020][\"x\"])\n",
    "display(G.nodes[42423020])\n",
    "print(ox.basic_stats(G))"
   ]
  },
  {
   "cell_type": "code",
   "execution_count": null,
   "id": "68deac3b",
   "metadata": {},
   "outputs": [],
   "source": [
    "# you cannot loop by index for G.nodes so use enumerate\n",
    "for ii, val in enumerate(G.nodes):\n",
    "    print(val)"
   ]
  },
  {
   "cell_type": "code",
   "execution_count": null,
   "id": "404efa04",
   "metadata": {},
   "outputs": [],
   "source": [
    "# print(G.edges)\n",
    "# converts the graph object into something potentially more mannagable\n",
    "full_graph = ox.graph_to_gdfs(G, nodes=True, edges=True)\n",
    "display(full_graph)"
   ]
  },
  {
   "cell_type": "code",
   "execution_count": null,
   "id": "d748b7db",
   "metadata": {},
   "outputs": [],
   "source": []
  },
  {
   "cell_type": "code",
   "execution_count": null,
   "id": "311a60a5",
   "metadata": {
    "scrolled": false
   },
   "outputs": [],
   "source": [
    "full_graph_edges = full_graph[1]\n",
    "full_graph_edges = full_graph_edges.replace(np.NaN,25)\n",
    "display(full_graph_edges)\n",
    "maxspeed = full_graph_edges[\"maxspeed\"]"
   ]
  },
  {
   "cell_type": "code",
   "execution_count": null,
   "id": "99e573c8",
   "metadata": {},
   "outputs": [],
   "source": [
    "# retrieves edges\n",
    "G.edges()"
   ]
  },
  {
   "cell_type": "code",
   "execution_count": null,
   "id": "5aa65635",
   "metadata": {},
   "outputs": [],
   "source": [
    "# help(G)"
   ]
  },
  {
   "cell_type": "code",
   "execution_count": null,
   "id": "b3626b15",
   "metadata": {},
   "outputs": [],
   "source": [
    "# just gives the name of the graph, not too useful\n",
    "G.name"
   ]
  },
  {
   "cell_type": "code",
   "execution_count": null,
   "id": "06a9aa48",
   "metadata": {},
   "outputs": [],
   "source": [
    "import osmnx as ox\n",
    "import folium\n",
    "import networkx as nx\n",
    "import numpy as np\n",
    "from geopy.geocoders import Nominatim"
   ]
  },
  {
   "cell_type": "code",
   "execution_count": null,
   "id": "1a91d100",
   "metadata": {},
   "outputs": [],
   "source": [
    "place = (42.72184876143654, -84.48878571939379)\n",
    "G = ox.graph_from_point(place, dist=5000, network_type='drive')\n",
    "Gp = ox.project_graph(G)"
   ]
  },
  {
   "cell_type": "code",
   "execution_count": null,
   "id": "fdc987bf",
   "metadata": {},
   "outputs": [],
   "source": [
    "def getCoordinates(location):\n",
    "    loc = Nominatim(user_agent=\"GetLoc\")\n",
    "\n",
    "    # entering the location name\n",
    "    location = location + \", East Lansing, MI\"\n",
    "    getLoc = loc.geocode(location)\n",
    "    if getLoc is None:\n",
    "        return None, None, None\n",
    "    else:\n",
    "        # printing address\n",
    "        address = getLoc.address\n",
    "\n",
    "        # printing latitude and longitude\n",
    "        coordinates = (getLoc.latitude, getLoc.longitude)\n",
    "\n",
    "        return address, coordinates, getLoc"
   ]
  },
  {
   "cell_type": "code",
   "execution_count": null,
   "id": "b6a81366",
   "metadata": {},
   "outputs": [],
   "source": [
    "def find_route():\n",
    "    loc = Nominatim(user_agent=\"GetLoc\")\n",
    "    start_fix_inputs = [0]\n",
    "    end_fix_inputs = [0]\n",
    "    method_fix_inputs = [0]\n",
    "    for val in start_fix_inputs:\n",
    "        start_loc = input('Starting Location: ')\n",
    "        start_address, start_coordinates, getLoc_start = getCoordinates(start_loc)\n",
    "        if getLoc_start is None:\n",
    "            print(\"Error! Please enter a valid starting location.\")\n",
    "            start_fix_inputs.append(0)\n",
    "    for val in end_fix_inputs:\n",
    "        end_loc = input('Ending Location:')\n",
    "        end_address, end_coordinates, getLoc_end = getCoordinates(end_loc)\n",
    "        if getLoc_end is None:\n",
    "            print(\"Error! Please enter a valid ending location.\")\n",
    "            end_fix_inputs.append(0)\n",
    "    for val in method_fix_inputs:\n",
    "        method = input(\"Method of travel (drive,walk): \")\n",
    "        if method != \"drive\" and method != \"walk\":\n",
    "            print(\"Error! Please enter a valid method of travel\")\n",
    "            method_fix_inputs.append(0)\n",
    "    strategy = input(\"What do you want to minimize? (time,distance): \")\n",
    "    \n",
    "    G = ox.graph_from_point((42.72184876143654, -84.48878571939379), dist=5000, network_type=method)\n",
    "    Gp = ox.project_graph(G)\n",
    "\n",
    "    orig_node = ox.get_nearest_node(G, start_coordinates)\n",
    "    target_node = ox.get_nearest_node(G, end_coordinates)\n",
    "    route = nx.shortest_path(G,\n",
    "                         orig_node,\n",
    "                         target_node, weight= strategy)\n",
    "    time = nx.shortest_path_length(G,\n",
    "                         orig_node,\n",
    "                         target_node, weight= \"time\")\n",
    "    print(\"Time to destination:\", time, \"minutes\")\n",
    "    distance = nx.shortest_path_length(G,\n",
    "                         orig_node,\n",
    "                         target_node, weight= \"length\")\n",
    "    print(\"Distance to destination:\", distance, \"meters\")\n",
    "    fig, ax = ox.plot_graph_route(G, route, route_color=\"y\", route_linewidth=6, node_size=6)\n",
    "    display(ox.plot_route_folium(G, route))"
   ]
  },
  {
   "cell_type": "code",
   "execution_count": null,
   "id": "4cfb1cd2",
   "metadata": {},
   "outputs": [],
   "source": [
    "find_route()"
   ]
  },
  {
   "cell_type": "code",
   "execution_count": null,
   "id": "1706a8f2",
   "metadata": {},
   "outputs": [],
   "source": [
    "if 3 not in [3,2]:\n",
    "    print(\"yay\")"
   ]
  },
  {
   "cell_type": "code",
   "execution_count": null,
   "id": "7a5a2ee0",
   "metadata": {},
   "outputs": [],
   "source": []
  }
 ],
 "metadata": {
  "kernelspec": {
   "display_name": "Python 3",
   "language": "python",
   "name": "python3"
  },
  "language_info": {
   "codemirror_mode": {
    "name": "ipython",
    "version": 3
   },
   "file_extension": ".py",
   "mimetype": "text/x-python",
   "name": "python",
   "nbconvert_exporter": "python",
   "pygments_lexer": "ipython3",
   "version": "3.8.8"
  }
 },
 "nbformat": 4,
 "nbformat_minor": 5
}
