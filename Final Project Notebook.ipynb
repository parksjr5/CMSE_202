{
 "cells": [
  {
   "cell_type": "markdown",
   "id": "a0c5b6cd",
   "metadata": {},
   "source": [
    "# Graph Theory Design for Optimal East Lansing Travel Route\n",
    "## Social 5 Group Project\n",
    "#### Aaron Langtry, Benjamin Mellon, Frank Luginbill, Jessica Parks, Joshua Pepper, Rishika Juloori"
   ]
  },
  {
   "cell_type": "markdown",
   "id": "9b0512cc",
   "metadata": {},
   "source": [
    "## 1 Background and Motivation"
   ]
  },
  {
   "cell_type": "markdown",
   "id": "92c2523f",
   "metadata": {},
   "source": [
    "With over 5,200 acres, Michigan State University is the 8th largest college campus in the United States. This campus is home to 563 buildings and has several miles of roads and sidewalks, so navigating between classes and landmarks can be very challenging. To help students, faculty, and visitors better navigate MSU's campus and the surrounding East Lansing area, our group seeks to calculate the shortest route between two chosen points of interest using various methods of transportation. The transportation types include walking and driving, and routes can be optimized for the least time traveled or the shortest distance covered. These conditions can be changed based on user preference and represent the primary variables of real-life transportation.  \n",
    "\n",
    "\n",
    "\n",
    "To determine the most efficient route based on various inputs, our group utilized OSMnx, Networkx, and Geopy to make a function that satisfies the travel conditions of the user. By developing functions that streamline the user-interface experience and accurately visualize spatial relationships on a 2-D plane, the user can quickly obtain reliable navigation information. The primary deliverable of this project is a function that displays a navigation map based on a starting location, ending location, a method of travel, and a distance or time minimizer. This function is derived from user-interface development and effective user-friendly visualization packages in Python. The functions can be applied for studying broader networks and has implementation potential for mobile apps and websites. In our study, the deliverables can be used to analyze human-spatial interactions in East Lansing, but broader analysis and conclusions can be formed from these visualizations. "
   ]
  },
  {
   "cell_type": "markdown",
   "id": "deebf5d2",
   "metadata": {},
   "source": [
    "## 2 Methodology"
   ]
  },
  {
   "cell_type": "markdown",
   "id": "466a4581",
   "metadata": {},
   "source": [
    "In creating a pseudo interface for navigation at MSU and the surrounding area, we will rely heavily on graph theory. Specifically, we will make use of osmnx, folium, and networkx. Geopy will also be necessary for allowing users to specify locations."
   ]
  },
  {
   "cell_type": "markdown",
   "id": "dec0394d",
   "metadata": {},
   "source": [
    "### Attention: Please uncomment the cell directly below and then run the cells underneath."
   ]
  },
  {
   "cell_type": "code",
   "execution_count": 13,
   "id": "a9c3c4b2",
   "metadata": {},
   "outputs": [],
   "source": [
    "# installs\n",
    "# !pip install osmnx\n",
    "# !pip install geopy\n",
    "# ! pip install networkx\n",
    "# ! pip install folium"
   ]
  },
  {
   "cell_type": "code",
   "execution_count": 14,
   "id": "25de20e9",
   "metadata": {},
   "outputs": [],
   "source": [
    "# imports\n",
    "import osmnx as ox\n",
    "import folium\n",
    "import networkx as nx\n",
    "from geopy.geocoders import Nominatim"
   ]
  },
  {
   "cell_type": "markdown",
   "id": "1e4217c8",
   "metadata": {},
   "source": [
    "### Stop!"
   ]
  },
  {
   "cell_type": "markdown",
   "id": "95db6124",
   "metadata": {},
   "source": [
    "The function below utilizes geopy to return coordinates given a location name."
   ]
  },
  {
   "cell_type": "markdown",
   "id": "cc8f1112",
   "metadata": {},
   "source": [
    "### Run the cell below."
   ]
  },
  {
   "cell_type": "code",
   "execution_count": 4,
   "id": "4c2f6793",
   "metadata": {},
   "outputs": [],
   "source": [
    "def getCoordinates(location):\n",
    "    '''\n",
    "    This function gets the coordinates of a place from an inputted string name, and from that string name returns address, coordinates, and getLoc\n",
    "    \n",
    "    inputs:\n",
    "        Location: A string that represents a place in or near MSU campus\n",
    "        \n",
    "    Returns:\n",
    "        Adress: The name of the location\n",
    "        Coordinates: The longitude and latitude of the location\n",
    "        getLoc: Determines if the entered location is in East Lansing\n",
    "    '''\n",
    "    loc = Nominatim(user_agent=\"GetLoc\")\n",
    "\n",
    "    # appending city and state to location name\n",
    "    location = location + \", East Lansing, MI\"\n",
    "    getLoc = loc.geocode(location)\n",
    "        # checking location exists, if not function returns None for all values\n",
    "    if getLoc is None:\n",
    "        return None, None, None\n",
    "    else:\n",
    "        # storing address name\n",
    "        address = getLoc.address\n",
    "\n",
    "        # storing lattitude and longitude\n",
    "        coordinates = (getLoc.latitude, getLoc.longitude)\n",
    "\n",
    "        return address, coordinates, getLoc"
   ]
  },
  {
   "cell_type": "markdown",
   "id": "52f14356",
   "metadata": {},
   "source": [
    "### Stop!"
   ]
  },
  {
   "cell_type": "markdown",
   "id": "a74f606b",
   "metadata": {},
   "source": [
    "The cell below uses osmnx to generate a graph for MSU campus and the surrounding area. The following cells displays the node data and edge data for the graphs."
   ]
  },
  {
   "cell_type": "markdown",
   "id": "81150869",
   "metadata": {},
   "source": [
    "### Run the cells below."
   ]
  },
  {
   "cell_type": "code",
   "execution_count": 5,
   "id": "18f1e1dc",
   "metadata": {},
   "outputs": [],
   "source": [
    "# initializing graph object\n",
    "place = (42.72184876143654, -84.48878571939379)\n",
    "G = ox.graph_from_point(place, dist=1500, network_type='drive')"
   ]
  },
  {
   "cell_type": "code",
   "execution_count": 10,
   "id": "2156b0ed",
   "metadata": {},
   "outputs": [
    {
     "name": "stdout",
     "output_type": "stream",
     "text": [
      "Nodes\n"
     ]
    },
    {
     "data": {
      "text/html": [
       "<div>\n",
       "<style scoped>\n",
       "    .dataframe tbody tr th:only-of-type {\n",
       "        vertical-align: middle;\n",
       "    }\n",
       "\n",
       "    .dataframe tbody tr th {\n",
       "        vertical-align: top;\n",
       "    }\n",
       "\n",
       "    .dataframe thead th {\n",
       "        text-align: right;\n",
       "    }\n",
       "</style>\n",
       "<table border=\"1\" class=\"dataframe\">\n",
       "  <thead>\n",
       "    <tr style=\"text-align: right;\">\n",
       "      <th></th>\n",
       "      <th>y</th>\n",
       "      <th>x</th>\n",
       "      <th>street_count</th>\n",
       "      <th>highway</th>\n",
       "      <th>ref</th>\n",
       "      <th>geometry</th>\n",
       "    </tr>\n",
       "    <tr>\n",
       "      <th>osmid</th>\n",
       "      <th></th>\n",
       "      <th></th>\n",
       "      <th></th>\n",
       "      <th></th>\n",
       "      <th></th>\n",
       "      <th></th>\n",
       "    </tr>\n",
       "  </thead>\n",
       "  <tbody>\n",
       "    <tr>\n",
       "      <th>184487794</th>\n",
       "      <td>42.733600</td>\n",
       "      <td>-84.500390</td>\n",
       "      <td>3</td>\n",
       "      <td>NaN</td>\n",
       "      <td>NaN</td>\n",
       "      <td>POINT (-84.50039 42.73360)</td>\n",
       "    </tr>\n",
       "    <tr>\n",
       "      <th>184494621</th>\n",
       "      <td>42.719906</td>\n",
       "      <td>-84.499945</td>\n",
       "      <td>4</td>\n",
       "      <td>NaN</td>\n",
       "      <td>NaN</td>\n",
       "      <td>POINT (-84.49995 42.71991)</td>\n",
       "    </tr>\n",
       "    <tr>\n",
       "      <th>184494629</th>\n",
       "      <td>42.720184</td>\n",
       "      <td>-84.502318</td>\n",
       "      <td>3</td>\n",
       "      <td>motorway_junction</td>\n",
       "      <td>NaN</td>\n",
       "      <td>POINT (-84.50232 42.72018)</td>\n",
       "    </tr>\n",
       "    <tr>\n",
       "      <th>184494646</th>\n",
       "      <td>42.720262</td>\n",
       "      <td>-84.502886</td>\n",
       "      <td>3</td>\n",
       "      <td>motorway_junction</td>\n",
       "      <td>NaN</td>\n",
       "      <td>POINT (-84.50289 42.72026)</td>\n",
       "    </tr>\n",
       "    <tr>\n",
       "      <th>184508494</th>\n",
       "      <td>42.733594</td>\n",
       "      <td>-84.502953</td>\n",
       "      <td>3</td>\n",
       "      <td>bus_stop</td>\n",
       "      <td>NaN</td>\n",
       "      <td>POINT (-84.50295 42.73359)</td>\n",
       "    </tr>\n",
       "  </tbody>\n",
       "</table>\n",
       "</div>"
      ],
      "text/plain": [
       "                   y          x  street_count            highway  ref  \\\n",
       "osmid                                                                   \n",
       "184487794  42.733600 -84.500390             3                NaN  NaN   \n",
       "184494621  42.719906 -84.499945             4                NaN  NaN   \n",
       "184494629  42.720184 -84.502318             3  motorway_junction  NaN   \n",
       "184494646  42.720262 -84.502886             3  motorway_junction  NaN   \n",
       "184508494  42.733594 -84.502953             3           bus_stop  NaN   \n",
       "\n",
       "                             geometry  \n",
       "osmid                                  \n",
       "184487794  POINT (-84.50039 42.73360)  \n",
       "184494621  POINT (-84.49995 42.71991)  \n",
       "184494629  POINT (-84.50232 42.72018)  \n",
       "184494646  POINT (-84.50289 42.72026)  \n",
       "184508494  POINT (-84.50295 42.73359)  "
      ]
     },
     "metadata": {},
     "output_type": "display_data"
    },
    {
     "name": "stdout",
     "output_type": "stream",
     "text": [
      "Edges\n"
     ]
    },
    {
     "data": {
      "text/html": [
       "<div>\n",
       "<style scoped>\n",
       "    .dataframe tbody tr th:only-of-type {\n",
       "        vertical-align: middle;\n",
       "    }\n",
       "\n",
       "    .dataframe tbody tr th {\n",
       "        vertical-align: top;\n",
       "    }\n",
       "\n",
       "    .dataframe thead th {\n",
       "        text-align: right;\n",
       "    }\n",
       "</style>\n",
       "<table border=\"1\" class=\"dataframe\">\n",
       "  <thead>\n",
       "    <tr style=\"text-align: right;\">\n",
       "      <th></th>\n",
       "      <th></th>\n",
       "      <th></th>\n",
       "      <th>osmid</th>\n",
       "      <th>oneway</th>\n",
       "      <th>ref</th>\n",
       "      <th>name</th>\n",
       "      <th>highway</th>\n",
       "      <th>maxspeed</th>\n",
       "      <th>length</th>\n",
       "      <th>geometry</th>\n",
       "      <th>lanes</th>\n",
       "      <th>bridge</th>\n",
       "      <th>access</th>\n",
       "    </tr>\n",
       "    <tr>\n",
       "      <th>u</th>\n",
       "      <th>v</th>\n",
       "      <th>key</th>\n",
       "      <th></th>\n",
       "      <th></th>\n",
       "      <th></th>\n",
       "      <th></th>\n",
       "      <th></th>\n",
       "      <th></th>\n",
       "      <th></th>\n",
       "      <th></th>\n",
       "      <th></th>\n",
       "      <th></th>\n",
       "      <th></th>\n",
       "    </tr>\n",
       "  </thead>\n",
       "  <tbody>\n",
       "    <tr>\n",
       "      <th>184487794</th>\n",
       "      <th>1496019655</th>\n",
       "      <th>0</th>\n",
       "      <td>317024753</td>\n",
       "      <td>True</td>\n",
       "      <td>M 143</td>\n",
       "      <td>Michigan Avenue</td>\n",
       "      <td>secondary</td>\n",
       "      <td>35 mph</td>\n",
       "      <td>104.301</td>\n",
       "      <td>LINESTRING (-84.50039 42.73360, -84.50098 42.7...</td>\n",
       "      <td>NaN</td>\n",
       "      <td>NaN</td>\n",
       "      <td>NaN</td>\n",
       "    </tr>\n",
       "    <tr>\n",
       "      <th rowspan=\"3\" valign=\"top\">184494621</th>\n",
       "      <th>184494629</th>\n",
       "      <th>0</th>\n",
       "      <td>17806460</td>\n",
       "      <td>True</td>\n",
       "      <td>NaN</td>\n",
       "      <td>NaN</td>\n",
       "      <td>motorway_link</td>\n",
       "      <td>NaN</td>\n",
       "      <td>196.455</td>\n",
       "      <td>LINESTRING (-84.49995 42.71991, -84.50073 42.7...</td>\n",
       "      <td>2</td>\n",
       "      <td>NaN</td>\n",
       "      <td>NaN</td>\n",
       "    </tr>\n",
       "    <tr>\n",
       "      <th>184591040</th>\n",
       "      <th>0</th>\n",
       "      <td>17823087</td>\n",
       "      <td>False</td>\n",
       "      <td>NaN</td>\n",
       "      <td>Arbor Drive</td>\n",
       "      <td>residential</td>\n",
       "      <td>NaN</td>\n",
       "      <td>105.350</td>\n",
       "      <td>LINESTRING (-84.49995 42.71991, -84.49995 42.7...</td>\n",
       "      <td>NaN</td>\n",
       "      <td>NaN</td>\n",
       "      <td>NaN</td>\n",
       "    </tr>\n",
       "    <tr>\n",
       "      <th>184639765</th>\n",
       "      <th>0</th>\n",
       "      <td>996327484</td>\n",
       "      <td>True</td>\n",
       "      <td>NaN</td>\n",
       "      <td>Arbor Drive</td>\n",
       "      <td>residential</td>\n",
       "      <td>NaN</td>\n",
       "      <td>15.169</td>\n",
       "      <td>LINESTRING (-84.49995 42.71991, -84.49991 42.7...</td>\n",
       "      <td>NaN</td>\n",
       "      <td>NaN</td>\n",
       "      <td>NaN</td>\n",
       "    </tr>\n",
       "    <tr>\n",
       "      <th>184494629</th>\n",
       "      <th>184494646</th>\n",
       "      <th>0</th>\n",
       "      <td>17806460</td>\n",
       "      <td>True</td>\n",
       "      <td>NaN</td>\n",
       "      <td>NaN</td>\n",
       "      <td>motorway_link</td>\n",
       "      <td>NaN</td>\n",
       "      <td>47.243</td>\n",
       "      <td>LINESTRING (-84.50232 42.72018, -84.50289 42.7...</td>\n",
       "      <td>2</td>\n",
       "      <td>NaN</td>\n",
       "      <td>NaN</td>\n",
       "    </tr>\n",
       "  </tbody>\n",
       "</table>\n",
       "</div>"
      ],
      "text/plain": [
       "                              osmid  oneway    ref             name  \\\n",
       "u         v          key                                              \n",
       "184487794 1496019655 0    317024753    True  M 143  Michigan Avenue   \n",
       "184494621 184494629  0     17806460    True    NaN              NaN   \n",
       "          184591040  0     17823087   False    NaN      Arbor Drive   \n",
       "          184639765  0    996327484    True    NaN      Arbor Drive   \n",
       "184494629 184494646  0     17806460    True    NaN              NaN   \n",
       "\n",
       "                                highway maxspeed   length  \\\n",
       "u         v          key                                    \n",
       "184487794 1496019655 0        secondary   35 mph  104.301   \n",
       "184494621 184494629  0    motorway_link      NaN  196.455   \n",
       "          184591040  0      residential      NaN  105.350   \n",
       "          184639765  0      residential      NaN   15.169   \n",
       "184494629 184494646  0    motorway_link      NaN   47.243   \n",
       "\n",
       "                                                                   geometry  \\\n",
       "u         v          key                                                      \n",
       "184487794 1496019655 0    LINESTRING (-84.50039 42.73360, -84.50098 42.7...   \n",
       "184494621 184494629  0    LINESTRING (-84.49995 42.71991, -84.50073 42.7...   \n",
       "          184591040  0    LINESTRING (-84.49995 42.71991, -84.49995 42.7...   \n",
       "          184639765  0    LINESTRING (-84.49995 42.71991, -84.49991 42.7...   \n",
       "184494629 184494646  0    LINESTRING (-84.50232 42.72018, -84.50289 42.7...   \n",
       "\n",
       "                         lanes bridge access  \n",
       "u         v          key                      \n",
       "184487794 1496019655 0     NaN    NaN    NaN  \n",
       "184494621 184494629  0       2    NaN    NaN  \n",
       "          184591040  0     NaN    NaN    NaN  \n",
       "          184639765  0     NaN    NaN    NaN  \n",
       "184494629 184494646  0       2    NaN    NaN  "
      ]
     },
     "metadata": {},
     "output_type": "display_data"
    }
   ],
   "source": [
    "graph_dataframes = ox.graph_to_gdfs(G, nodes=True, edges=True)\n",
    "print(\"Nodes\")\n",
    "display(graph_dataframes[0].head()) #displays the information for the first 5 nodes\n",
    "print(\"Edges\")\n",
    "display(graph_dataframes[1].head()) #displays the information for the first 5 edges"
   ]
  },
  {
   "cell_type": "markdown",
   "id": "30565c47",
   "metadata": {},
   "source": [
    "As we can see, osmnx graphs store a lot of information. We want to pay attention to the connections and their lengths and maxspeeds. The x and y coordinates of the nodes are also necessary for our getCoordinates function."
   ]
  },
  {
   "cell_type": "markdown",
   "id": "469b939b",
   "metadata": {},
   "source": [
    "### Stop!"
   ]
  },
  {
   "cell_type": "markdown",
   "id": "908efa5b",
   "metadata": {},
   "source": [
    "Netowrkx is not the only package capable of finding the shortest route, but unlike other packages, it allows the user to specify what the weight for the path should be. For now, we will find the path with the shortest distance, but later we will tell Networkx to find the shortest drive time (or walking time). The cells below contain an example plot using two types of plots: osmnx and folium."
   ]
  },
  {
   "cell_type": "markdown",
   "id": "fca02e89",
   "metadata": {},
   "source": [
    "### Run the cells below."
   ]
  },
  {
   "cell_type": "code",
   "execution_count": 26,
   "id": "b5714b85",
   "metadata": {},
   "outputs": [],
   "source": [
    "start = (42.7240569042893, -84.470615171598) #Arbitrary East Lansing starting location\n",
    "end =(42.72507741134227, -84.48132919519877) #Arbitrary East Lansing ending location\n",
    "\n",
    "orig_node = ox.nearest_nodes(G, start[1], start[0])   #inputting the starting node into OSMnx\n",
    "target_node = ox.nearest_nodes(G, end[1], end[0])   #inputting the ending node into OSMnx\n",
    "\n",
    "route = nx.shortest_path(G,\n",
    "                         orig_node,\n",
    "                         target_node, weight='distance')    #get shortest route"
   ]
  },
  {
   "cell_type": "code",
   "execution_count": 27,
   "id": "03830036",
   "metadata": {},
   "outputs": [
    {
     "data": {
      "image/png": "[encoded data removed]",
      "text/plain": [
       "<Figure size 576x576 with 1 Axes>"
      ]
     },
     "metadata": {},
     "output_type": "display_data"
    }
   ],
   "source": [
    "fig, ax = ox.plot_graph_route(G, route, route_color=\"y\", route_linewidth=6, node_size=6)"
   ]
  },
  {
   "cell_type": "code",
   "execution_count": 28,
   "id": "a1a34fa0",
   "metadata": {},
   "outputs": [
    {
     "data": {
      "text/html": [
       "<div style=\"width:100%;\"><div style=\"position:relative;width:100%;height:0;padding-bottom:60%;\"><span style=\"color:#565656\">Make this Notebook Trusted to load map: File -> Trust Notebook</span><iframe srcdoc=\"&lt;!DOCTYPE html&gt;\n",
       "&lt;head&gt;    \n",
       "    &lt;meta http-equiv=&quot;content-type&quot; content=&quot;text/html; charset=UTF-8&quot; /&gt;\n",
       "    \n",
       "        &lt;script&gt;\n",
       "            L_NO_TOUCH = false;\n",
       "            L_DISABLE_3D = false;\n",
       "        &lt;/script&gt;\n",
       "    \n",
       "    &lt;style&gt;html, body {width: 100%;height: 100%;margin: 0;padding: 0;}&lt;/style&gt;\n",
       "    &lt;style&gt;#map {position:absolute;top:0;bottom:0;right:0;left:0;}&lt;/style&gt;\n",
       "    &lt;script src=&quot;https://cdn.jsdelivr.net/npm/leaflet@1.6.0/dist/leaflet.js&quot;&gt;&lt;/script&gt;\n",
       "    &lt;script src=&quot;https://code.jquery.com/jquery-1.12.4.min.js&quot;&gt;&lt;/script&gt;\n",
       "    &lt;script src=&quot;https://maxcdn.bootstrapcdn.com/bootstrap/3.2.0/js/bootstrap.min.js&quot;&gt;&lt;/script&gt;\n",
       "    &lt;script src=&quot;https://cdnjs.cloudflare.com/ajax/libs/Leaflet.awesome-markers/2.0.2/leaflet.awesome-markers.js&quot;&gt;&lt;/script&gt;\n",
       "    &lt;link rel=&quot;stylesheet&quot; href=&quot;https://cdn.jsdelivr.net/npm/leaflet@1.6.0/dist/leaflet.css&quot;/&gt;\n",
       "    &lt;link rel=&quot;stylesheet&quot; href=&quot;https://maxcdn.bootstrapcdn.com/bootstrap/3.2.0/css/bootstrap.min.css&quot;/&gt;\n",
       "    &lt;link rel=&quot;stylesheet&quot; href=&quot;https://maxcdn.bootstrapcdn.com/bootstrap/3.2.0/css/bootstrap-theme.min.css&quot;/&gt;\n",
       "    &lt;link rel=&quot;stylesheet&quot; href=&quot;https://maxcdn.bootstrapcdn.com/font-awesome/4.6.3/css/font-awesome.min.css&quot;/&gt;\n",
       "    &lt;link rel=&quot;stylesheet&quot; href=&quot;https://cdnjs.cloudflare.com/ajax/libs/Leaflet.awesome-markers/2.0.2/leaflet.awesome-markers.css&quot;/&gt;\n",
       "    &lt;link rel=&quot;stylesheet&quot; href=&quot;https://cdn.jsdelivr.net/gh/python-visualization/folium/folium/templates/leaflet.awesome.rotate.min.css&quot;/&gt;\n",
       "    \n",
       "            &lt;meta name=&quot;viewport&quot; content=&quot;width=device-width,\n",
       "                initial-scale=1.0, maximum-scale=1.0, user-scalable=no&quot; /&gt;\n",
       "            &lt;style&gt;\n",
       "                #map_9bbd8fba1484369cbeae418528ac650f {\n",
       "                    position: relative;\n",
       "                    width: 100.0%;\n",
       "                    height: 100.0%;\n",
       "                    left: 0.0%;\n",
       "                    top: 0.0%;\n",
       "                }\n",
       "            &lt;/style&gt;\n",
       "        \n",
       "&lt;/head&gt;\n",
       "&lt;body&gt;    \n",
       "    \n",
       "            &lt;div class=&quot;folium-map&quot; id=&quot;map_9bbd8fba1484369cbeae418528ac650f&quot; &gt;&lt;/div&gt;\n",
       "        \n",
       "&lt;/body&gt;\n",
       "&lt;script&gt;    \n",
       "    \n",
       "            var map_9bbd8fba1484369cbeae418528ac650f = L.map(\n",
       "                &quot;map_9bbd8fba1484369cbeae418528ac650f&quot;,\n",
       "                {\n",
       "                    center: [42.725984378017245, -84.47686775804908],\n",
       "                    crs: L.CRS.EPSG3857,\n",
       "                    zoom: 1,\n",
       "                    zoomControl: true,\n",
       "                    preferCanvas: false,\n",
       "                }\n",
       "            );\n",
       "\n",
       "            \n",
       "\n",
       "        \n",
       "    \n",
       "            var tile_layer_ebc201792b02027eb3c36818c51d5a37 = L.tileLayer(\n",
       "                &quot;https://cartodb-basemaps-{s}.global.ssl.fastly.net/light_all/{z}/{x}/{y}.png&quot;,\n",
       "                {&quot;attribution&quot;: &quot;\\u0026copy; \\u003ca href=\\&quot;http://www.openstreetmap.org/copyright\\&quot;\\u003eOpenStreetMap\\u003c/a\\u003e contributors \\u0026copy; \\u003ca href=\\&quot;http://cartodb.com/attributions\\&quot;\\u003eCartoDB\\u003c/a\\u003e, CartoDB \\u003ca href =\\&quot;http://cartodb.com/attributions\\&quot;\\u003eattributions\\u003c/a\\u003e&quot;, &quot;detectRetina&quot;: false, &quot;maxNativeZoom&quot;: 18, &quot;maxZoom&quot;: 18, &quot;minZoom&quot;: 0, &quot;noWrap&quot;: false, &quot;opacity&quot;: 1, &quot;subdomains&quot;: &quot;abc&quot;, &quot;tms&quot;: false}\n",
       "            ).addTo(map_9bbd8fba1484369cbeae418528ac650f);\n",
       "        \n",
       "    \n",
       "            var poly_line_1eb672c6dbaafa69499496d44e6da6d5 = L.polyline(\n",
       "                [[42.7249256, -84.4717447], [42.7249822, -84.4717741], [42.7251262, -84.4718481], [42.7252452, -84.4719062], [42.7253531, -84.4719595], [42.7254505, -84.4720032]],\n",
       "                {&quot;bubblingMouseEvents&quot;: true, &quot;color&quot;: &quot;#3388ff&quot;, &quot;dashArray&quot;: null, &quot;dashOffset&quot;: null, &quot;fill&quot;: false, &quot;fillColor&quot;: &quot;#3388ff&quot;, &quot;fillOpacity&quot;: 0.2, &quot;fillRule&quot;: &quot;evenodd&quot;, &quot;lineCap&quot;: &quot;round&quot;, &quot;lineJoin&quot;: &quot;round&quot;, &quot;noClip&quot;: false, &quot;opacity&quot;: 1.0, &quot;smoothFactor&quot;: 1.0, &quot;stroke&quot;: true, &quot;weight&quot;: 3}\n",
       "            ).addTo(map_9bbd8fba1484369cbeae418528ac650f);\n",
       "        \n",
       "    \n",
       "            var poly_line_8585db0c4a51bd9de23e87924a22e7b4 = L.polyline(\n",
       "                [[42.7254505, -84.4720032], [42.7255221, -84.4720381], [42.7255933, -84.4720668], [42.7256676, -84.4720892], [42.7257234, -84.4721007], [42.7257784, -84.472105], [42.7258732, -84.4720999], [42.725937, -84.4720866]],\n",
       "                {&quot;bubblingMouseEvents&quot;: true, &quot;color&quot;: &quot;#3388ff&quot;, &quot;dashArray&quot;: null, &quot;dashOffset&quot;: null, &quot;fill&quot;: false, &quot;fillColor&quot;: &quot;#3388ff&quot;, &quot;fillOpacity&quot;: 0.2, &quot;fillRule&quot;: &quot;evenodd&quot;, &quot;lineCap&quot;: &quot;round&quot;, &quot;lineJoin&quot;: &quot;round&quot;, &quot;noClip&quot;: false, &quot;opacity&quot;: 1.0, &quot;smoothFactor&quot;: 1.0, &quot;stroke&quot;: true, &quot;weight&quot;: 3}\n",
       "            ).addTo(map_9bbd8fba1484369cbeae418528ac650f);\n",
       "        \n",
       "    \n",
       "            var poly_line_4b976fcb571148b5050226141c7390de = L.polyline(\n",
       "                [[42.725937, -84.4720866], [42.725979, -84.4722652], [42.7260298, -84.472481], [42.7260605, -84.4725978], [42.7261024, -84.4727572], [42.7261683, -84.4729631], [42.7261899, -84.4730306], [42.7262289, -84.4731858], [42.726257, -84.473347], [42.7262716, -84.4734965], [42.7262732, -84.4736063], [42.7262751, -84.4737408], [42.7262559, -84.4739642], [42.7262219, -84.4742226], [42.7261817, -84.4745359], [42.7261728, -84.4746047], [42.7261252, -84.4749396], [42.7261035, -84.4750777], [42.7260864, -84.4752651], [42.7260813, -84.4753211], [42.7260746, -84.4753944], [42.726066, -84.4754881], [42.726051, -84.4756514], [42.7260464, -84.4757187], [42.7260361, -84.4758671], [42.7260235, -84.4760399], [42.7260182, -84.4762349], [42.7260188, -84.4764105], [42.7260192, -84.4765386]],\n",
       "                {&quot;bubblingMouseEvents&quot;: true, &quot;color&quot;: &quot;#3388ff&quot;, &quot;dashArray&quot;: null, &quot;dashOffset&quot;: null, &quot;fill&quot;: false, &quot;fillColor&quot;: &quot;#3388ff&quot;, &quot;fillOpacity&quot;: 0.2, &quot;fillRule&quot;: &quot;evenodd&quot;, &quot;lineCap&quot;: &quot;round&quot;, &quot;lineJoin&quot;: &quot;round&quot;, &quot;noClip&quot;: false, &quot;opacity&quot;: 1.0, &quot;smoothFactor&quot;: 1.0, &quot;stroke&quot;: true, &quot;weight&quot;: 3}\n",
       "            ).addTo(map_9bbd8fba1484369cbeae418528ac650f);\n",
       "        \n",
       "    \n",
       "            var poly_line_4ece9acad8b17092573dda0cfe20c601 = L.polyline(\n",
       "                [[42.7260192, -84.4765386], [42.7260064, -84.4777778], [42.726007, -84.4778977]],\n",
       "                {&quot;bubblingMouseEvents&quot;: true, &quot;color&quot;: &quot;#3388ff&quot;, &quot;dashArray&quot;: null, &quot;dashOffset&quot;: null, &quot;fill&quot;: false, &quot;fillColor&quot;: &quot;#3388ff&quot;, &quot;fillOpacity&quot;: 0.2, &quot;fillRule&quot;: &quot;evenodd&quot;, &quot;lineCap&quot;: &quot;round&quot;, &quot;lineJoin&quot;: &quot;round&quot;, &quot;noClip&quot;: false, &quot;opacity&quot;: 1.0, &quot;smoothFactor&quot;: 1.0, &quot;stroke&quot;: true, &quot;weight&quot;: 3}\n",
       "            ).addTo(map_9bbd8fba1484369cbeae418528ac650f);\n",
       "        \n",
       "    \n",
       "            var poly_line_ec626c5ec8ca29afc065c9ce2731f4a8 = L.polyline(\n",
       "                [[42.726007, -84.4778977], [42.7260098, -84.4780492], [42.7260211, -84.4789962], [42.7260216, -84.4791184], [42.7260241, -84.4797704], [42.7260231, -84.4799939], [42.726022, -84.4802329], [42.7260176, -84.4809219], [42.726015, -84.481325], [42.725989, -84.481576], [42.725903, -84.482057], [42.7258625, -84.4822779]],\n",
       "                {&quot;bubblingMouseEvents&quot;: true, &quot;color&quot;: &quot;#3388ff&quot;, &quot;dashArray&quot;: null, &quot;dashOffset&quot;: null, &quot;fill&quot;: false, &quot;fillColor&quot;: &quot;#3388ff&quot;, &quot;fillOpacity&quot;: 0.2, &quot;fillRule&quot;: &quot;evenodd&quot;, &quot;lineCap&quot;: &quot;round&quot;, &quot;lineJoin&quot;: &quot;round&quot;, &quot;noClip&quot;: false, &quot;opacity&quot;: 1.0, &quot;smoothFactor&quot;: 1.0, &quot;stroke&quot;: true, &quot;weight&quot;: 3}\n",
       "            ).addTo(map_9bbd8fba1484369cbeae418528ac650f);\n",
       "        \n",
       "    \n",
       "            var poly_line_0fcdf27694272f615584fb2b07dd6e9a = L.polyline(\n",
       "                [[42.7258625, -84.4822779], [42.7255856, -84.4822889], [42.725443, -84.482308]],\n",
       "                {&quot;bubblingMouseEvents&quot;: true, &quot;color&quot;: &quot;#3388ff&quot;, &quot;dashArray&quot;: null, &quot;dashOffset&quot;: null, &quot;fill&quot;: false, &quot;fillColor&quot;: &quot;#3388ff&quot;, &quot;fillOpacity&quot;: 0.2, &quot;fillRule&quot;: &quot;evenodd&quot;, &quot;lineCap&quot;: &quot;round&quot;, &quot;lineJoin&quot;: &quot;round&quot;, &quot;noClip&quot;: false, &quot;opacity&quot;: 1.0, &quot;smoothFactor&quot;: 1.0, &quot;stroke&quot;: true, &quot;weight&quot;: 3}\n",
       "            ).addTo(map_9bbd8fba1484369cbeae418528ac650f);\n",
       "        \n",
       "    \n",
       "            map_9bbd8fba1484369cbeae418528ac650f.fitBounds(\n",
       "                [[42.7249256, -84.482308], [42.7262751, -84.4717447]],\n",
       "                {}\n",
       "            );\n",
       "        \n",
       "&lt;/script&gt;\" style=\"position:absolute;width:100%;height:100%;left:0;top:0;border:none !important;\" allowfullscreen webkitallowfullscreen mozallowfullscreen></iframe></div></div>"
      ],
      "text/plain": [
       "<folium.folium.Map at 0x7f639adb0d30>"
      ]
     },
     "metadata": {},
     "output_type": "display_data"
    }
   ],
   "source": [
    "display(ox.plot_route_folium(G, route))"
   ]
  },
  {
   "cell_type": "markdown",
   "id": "eff9a6ca",
   "metadata": {},
   "source": [
    "Of the two plotting methods, folium is clearly more user friendly with its inclusion of road names and ability to zoom in. "
   ]
  },
  {
   "cell_type": "markdown",
   "id": "742f57cf",
   "metadata": {},
   "source": [
    "### Stop!"
   ]
  },
  {
   "cell_type": "markdown",
   "id": "4e81441c",
   "metadata": {},
   "source": [
    "Before putting everything together, we need an interface for the user. The function below asks the user for their planned route, method of travel, and whether they would like to minimize time or distance."
   ]
  },
  {
   "cell_type": "markdown",
   "id": "22e3faf3",
   "metadata": {},
   "source": [
    "### Run the cell below."
   ]
  },
  {
   "cell_type": "code",
   "execution_count": 31,
   "id": "27d0609c",
   "metadata": {},
   "outputs": [],
   "source": [
    "def user_interface():\n",
    "    '''\n",
    "    User interface function\n",
    "    inputs: \n",
    "        start_loc: The starting location as a string\n",
    "        end_loc: The ending location as a string\n",
    "        method: Method of travel as a string. Takes 'drive' or 'walk'\n",
    "        strategy: Strategy for selection the route. Takes 'distance' or 'time'\n",
    "        \n",
    "    outputs:\n",
    "        start_coordinates: The starting coordinates as a tuple\n",
    "        end_coordinates: The ending coordinates as a tuple\n",
    "        method: Method of travel as a string\n",
    "        strategy: Minimization strategy as a string\n",
    "    \n",
    "    '''\n",
    "    loc = Nominatim(user_agent=\"GetLoc\")  # calls an application that contains locations by their names\n",
    "    \n",
    "    # creates lists that are used to repeated ask for inputs until valid inputs are given\n",
    "    start_fix_inputs = [0]   \n",
    "    end_fix_inputs = [0]\n",
    "    method_fix_inputs = [0]\n",
    "    strategy_fix_inputs = [0]\n",
    "    \n",
    "    # asks for the starting location \n",
    "    for val in start_fix_inputs: \n",
    "        start_loc = input('Starting Location: ')\n",
    "        start_address, start_coordinates, getLoc_start = getCoordinates(start_loc) # gets starting coordinates\n",
    "        if getLoc_start is None:\n",
    "            print(\"Error! Please enter a valid starting location.\")\n",
    "            start_fix_inputs.append(0)\n",
    "            \n",
    "   # asks for the ending location\n",
    "    for val in end_fix_inputs:\n",
    "        end_loc = input('Ending Location:')\n",
    "        end_address, end_coordinates, getLoc_end = getCoordinates(end_loc)  # gets ending coordinates\n",
    "        if getLoc_end is None:\n",
    "            print(\"Error! Please enter a valid ending location.\")\n",
    "            end_fix_inputs.append(0)\n",
    "    \n",
    "    # asks for method of travel\n",
    "    for val in method_fix_inputs:\n",
    "        method = input(\"Method of travel (drive,walk): \")  \n",
    "        if method != \"drive\" and method != \"walk\":\n",
    "            print(\"Error! Please enter a valid method of travel\")\n",
    "            method_fix_inputs.append(0)\n",
    "            \n",
    "    # asks for minimization strategy\n",
    "    for val in strategy_fix_inputs:\n",
    "        strategy = input(\"What do you want to minimize? (time,distance): \")\n",
    "        if strategy != \"time\" and strategy != \"distance\":\n",
    "            print(\"Error! Please enter a valid minimization strategy\")\n",
    "            strategy_fix_inputs.append(0)\n",
    "    return start_coordinates, end_coordinates, method, strategy"
   ]
  },
  {
   "cell_type": "markdown",
   "id": "4e4c453e",
   "metadata": {},
   "source": [
    "### Stop!"
   ]
  },
  {
   "cell_type": "markdown",
   "id": "d79f2b16",
   "metadata": {},
   "source": [
    "## 3 Results"
   ]
  },
  {
   "cell_type": "markdown",
   "id": "97bd001a",
   "metadata": {},
   "source": [
    "Now that all of the groundwork has been layed, all that is left is to put everything together. The function find_route prompts the user for inputs and creates a graph accordingly. The function also outputs expected time and distance."
   ]
  },
  {
   "cell_type": "markdown",
   "id": "9c86ccaf",
   "metadata": {},
   "source": [
    "### Run the cell below."
   ]
  },
  {
   "cell_type": "code",
   "execution_count": 32,
   "id": "ce5e40c5",
   "metadata": {},
   "outputs": [],
   "source": [
    "def find_route():\n",
    "    '''\n",
    "    Finds and plots the shortest route from the starting to ending location in a follium map\n",
    "    \n",
    "    inputs:\n",
    "        start_loc: The starting location as a string\n",
    "        end_loc: The ending location as a string\n",
    "        method: Method of travel as a string. Takes 'drive' or 'walk'\n",
    "        strategy: Strategy for selection the route. Takes 'distance' or 'time'\n",
    "    \n",
    "    outputs:\n",
    "        returns a follium graph that contains the shortest route\n",
    "    '''\n",
    "    start_coordinates, end_coordinates, method, strategy = user_interface() # This calls the user_interface function from before\n",
    "    \n",
    "    G = ox.graph_from_point((42.72184876143654, -84.48878571939379), dist=5000, network_type=method) # Initializes the graph\n",
    "\n",
    "    orig_node = ox.nearest_nodes(G, start_coordinates[1], start_coordinates[0]) # Start node\n",
    "    target_node = ox.nearest_nodes(G, end_coordinates[1], end_coordinates[0]) # End node\n",
    "    \n",
    "    route = nx.shortest_path(G,\n",
    "                         orig_node,\n",
    "                         target_node, weight= strategy) # Creates the route\n",
    "    \n",
    "    time = nx.shortest_path_length(G,\n",
    "                         orig_node,\n",
    "                         target_node, weight= \"time\") # Estimate of travel time\n",
    "    \n",
    "    print(\"Time to destination:\", time, \"minutes\") # Prints estimated travel time\n",
    "    \n",
    "    distance = nx.shortest_path_length(G,\n",
    "                         orig_node,\n",
    "                         target_node, weight= \"length\")  # Estimate of total distance\n",
    "    \n",
    "    print(\"Distance to destination:\", distance, \"meters\") # Prints total traveled distance\n",
    "    display(ox.plot_route_folium(G, route)) # Plots the graph"
   ]
  },
  {
   "cell_type": "markdown",
   "id": "eb12fbab",
   "metadata": {},
   "source": [
    "### Stop!"
   ]
  },
  {
   "cell_type": "markdown",
   "id": "0073c6de",
   "metadata": {},
   "source": [
    "To see how the user interface works, run the cell below and respond to the prompts as follows:\n",
    "- Starting Location: The Rock \n",
    "- Ending Location: Spartan Statue\n",
    "- Method of travel: drive\n",
    "- Minimize Time or Distance?: time\n",
    "\n",
    "After doing this, re-run the cell while entering Geoff Boeing as inputs at each step to see how the interface handles locations, methods of travel, or strategies that don't exist. After an error is returned, enter the following:\n",
    "- Starting Location: Spartan Statue\n",
    "- Ending Location: The Rock\n",
    "- Method of travel: drive\n",
    "- Minimize Time or Distance?: distance"
   ]
  },
  {
   "cell_type": "markdown",
   "id": "d1500a87",
   "metadata": {},
   "source": [
    "### Run the following cell twice as specified above."
   ]
  },
  {
   "cell_type": "code",
   "execution_count": 35,
   "id": "e0e48348",
   "metadata": {},
   "outputs": [
    {
     "name": "stdout",
     "output_type": "stream",
     "text": [
      "Starting Location: Spartan Statue\n",
      "Ending Location:Jeff Boeging\n",
      "Error! Please enter a valid ending location.\n",
      "Ending Location:The Rock\n",
      "Method of travel (drive,walk): drive\n",
      "What do you want to minimize? (time,distance): distance\n",
      "Time to destination: 5 minutes\n",
      "Distance to destination: 1064.037 meters\n"
     ]
    },
    {
     "data": {
      "text/html": [
       "<div style=\"width:100%;\"><div style=\"position:relative;width:100%;height:0;padding-bottom:60%;\"><span style=\"color:#565656\">Make this Notebook Trusted to load map: File -> Trust Notebook</span><iframe srcdoc=\"&lt;!DOCTYPE html&gt;\n",
       "&lt;head&gt;    \n",
       "    &lt;meta http-equiv=&quot;content-type&quot; content=&quot;text/html; charset=UTF-8&quot; /&gt;\n",
       "    \n",
       "        &lt;script&gt;\n",
       "            L_NO_TOUCH = false;\n",
       "            L_DISABLE_3D = false;\n",
       "        &lt;/script&gt;\n",
       "    \n",
       "    &lt;style&gt;html, body {width: 100%;height: 100%;margin: 0;padding: 0;}&lt;/style&gt;\n",
       "    &lt;style&gt;#map {position:absolute;top:0;bottom:0;right:0;left:0;}&lt;/style&gt;\n",
       "    &lt;script src=&quot;https://cdn.jsdelivr.net/npm/leaflet@1.6.0/dist/leaflet.js&quot;&gt;&lt;/script&gt;\n",
       "    &lt;script src=&quot;https://code.jquery.com/jquery-1.12.4.min.js&quot;&gt;&lt;/script&gt;\n",
       "    &lt;script src=&quot;https://maxcdn.bootstrapcdn.com/bootstrap/3.2.0/js/bootstrap.min.js&quot;&gt;&lt;/script&gt;\n",
       "    &lt;script src=&quot;https://cdnjs.cloudflare.com/ajax/libs/Leaflet.awesome-markers/2.0.2/leaflet.awesome-markers.js&quot;&gt;&lt;/script&gt;\n",
       "    &lt;link rel=&quot;stylesheet&quot; href=&quot;https://cdn.jsdelivr.net/npm/leaflet@1.6.0/dist/leaflet.css&quot;/&gt;\n",
       "    &lt;link rel=&quot;stylesheet&quot; href=&quot;https://maxcdn.bootstrapcdn.com/bootstrap/3.2.0/css/bootstrap.min.css&quot;/&gt;\n",
       "    &lt;link rel=&quot;stylesheet&quot; href=&quot;https://maxcdn.bootstrapcdn.com/bootstrap/3.2.0/css/bootstrap-theme.min.css&quot;/&gt;\n",
       "    &lt;link rel=&quot;stylesheet&quot; href=&quot;https://maxcdn.bootstrapcdn.com/font-awesome/4.6.3/css/font-awesome.min.css&quot;/&gt;\n",
       "    &lt;link rel=&quot;stylesheet&quot; href=&quot;https://cdnjs.cloudflare.com/ajax/libs/Leaflet.awesome-markers/2.0.2/leaflet.awesome-markers.css&quot;/&gt;\n",
       "    &lt;link rel=&quot;stylesheet&quot; href=&quot;https://cdn.jsdelivr.net/gh/python-visualization/folium/folium/templates/leaflet.awesome.rotate.min.css&quot;/&gt;\n",
       "    \n",
       "            &lt;meta name=&quot;viewport&quot; content=&quot;width=device-width,\n",
       "                initial-scale=1.0, maximum-scale=1.0, user-scalable=no&quot; /&gt;\n",
       "            &lt;style&gt;\n",
       "                #map_a6edfed3ed8a4d49788bb81ee4a143d5 {\n",
       "                    position: relative;\n",
       "                    width: 100.0%;\n",
       "                    height: 100.0%;\n",
       "                    left: 0.0%;\n",
       "                    top: 0.0%;\n",
       "                }\n",
       "            &lt;/style&gt;\n",
       "        \n",
       "&lt;/head&gt;\n",
       "&lt;body&gt;    \n",
       "    \n",
       "            &lt;div class=&quot;folium-map&quot; id=&quot;map_a6edfed3ed8a4d49788bb81ee4a143d5&quot; &gt;&lt;/div&gt;\n",
       "        \n",
       "&lt;/body&gt;\n",
       "&lt;script&gt;    \n",
       "    \n",
       "            var map_a6edfed3ed8a4d49788bb81ee4a143d5 = L.map(\n",
       "                &quot;map_a6edfed3ed8a4d49788bb81ee4a143d5&quot;,\n",
       "                {\n",
       "                    center: [42.73103016673332, -84.48247532775906],\n",
       "                    crs: L.CRS.EPSG3857,\n",
       "                    zoom: 1,\n",
       "                    zoomControl: true,\n",
       "                    preferCanvas: false,\n",
       "                }\n",
       "            );\n",
       "\n",
       "            \n",
       "\n",
       "        \n",
       "    \n",
       "            var tile_layer_10eccc3c6af3a2ed52adbfd5be9bd788 = L.tileLayer(\n",
       "                &quot;https://cartodb-basemaps-{s}.global.ssl.fastly.net/light_all/{z}/{x}/{y}.png&quot;,\n",
       "                {&quot;attribution&quot;: &quot;\\u0026copy; \\u003ca href=\\&quot;http://www.openstreetmap.org/copyright\\&quot;\\u003eOpenStreetMap\\u003c/a\\u003e contributors \\u0026copy; \\u003ca href=\\&quot;http://cartodb.com/attributions\\&quot;\\u003eCartoDB\\u003c/a\\u003e, CartoDB \\u003ca href =\\&quot;http://cartodb.com/attributions\\&quot;\\u003eattributions\\u003c/a\\u003e&quot;, &quot;detectRetina&quot;: false, &quot;maxNativeZoom&quot;: 18, &quot;maxZoom&quot;: 18, &quot;minZoom&quot;: 0, &quot;noWrap&quot;: false, &quot;opacity&quot;: 1, &quot;subdomains&quot;: &quot;abc&quot;, &quot;tms&quot;: false}\n",
       "            ).addTo(map_a6edfed3ed8a4d49788bb81ee4a143d5);\n",
       "        \n",
       "    \n",
       "            var poly_line_dbc022abd10b24353bbea12e6849ea8f = L.polyline(\n",
       "                [[42.7312538, -84.4873685], [42.7313125, -84.4873153], [42.7313357, -84.4872943], [42.7315588, -84.4870973], [42.7317873, -84.4868955], [42.7320672, -84.4866483], [42.7322053, -84.4865474], [42.7322855, -84.4865066], [42.7323379, -84.4865008]],\n",
       "                {&quot;bubblingMouseEvents&quot;: true, &quot;color&quot;: &quot;#3388ff&quot;, &quot;dashArray&quot;: null, &quot;dashOffset&quot;: null, &quot;fill&quot;: false, &quot;fillColor&quot;: &quot;#3388ff&quot;, &quot;fillOpacity&quot;: 0.2, &quot;fillRule&quot;: &quot;evenodd&quot;, &quot;lineCap&quot;: &quot;round&quot;, &quot;lineJoin&quot;: &quot;round&quot;, &quot;noClip&quot;: false, &quot;opacity&quot;: 1.0, &quot;smoothFactor&quot;: 1.0, &quot;stroke&quot;: true, &quot;weight&quot;: 3}\n",
       "            ).addTo(map_a6edfed3ed8a4d49788bb81ee4a143d5);\n",
       "        \n",
       "    \n",
       "            var poly_line_3907cf28e3763a2a371c87ad99c0c07a = L.polyline(\n",
       "                [[42.7323379, -84.4865008], [42.7323408, -84.4864003], [42.7323401, -84.4863182], [42.7323302, -84.4862493], [42.732232, -84.485999], [42.731983, -84.485404], [42.731933, -84.485261], [42.731879, -84.485018], [42.731855, -84.484815], [42.731834, -84.484405], [42.731835, -84.484113], [42.73183, -84.4838692], [42.7318259, -84.4835948], [42.7317927, -84.4831327], [42.7317255, -84.4829012], [42.7316274, -84.4827155], [42.7312182, -84.4822692], [42.7311254, -84.4821157], [42.7311027, -84.4820722], [42.7310419, -84.4819554], [42.730949, -84.4817118], [42.7309124, -84.4815729], [42.7308924, -84.4814173], [42.7308875, -84.4812514], [42.7309476, -84.4809694], [42.7310779, -84.4806918], [42.7311459, -84.4805818]],\n",
       "                {&quot;bubblingMouseEvents&quot;: true, &quot;color&quot;: &quot;#3388ff&quot;, &quot;dashArray&quot;: null, &quot;dashOffset&quot;: null, &quot;fill&quot;: false, &quot;fillColor&quot;: &quot;#3388ff&quot;, &quot;fillOpacity&quot;: 0.2, &quot;fillRule&quot;: &quot;evenodd&quot;, &quot;lineCap&quot;: &quot;round&quot;, &quot;lineJoin&quot;: &quot;round&quot;, &quot;noClip&quot;: false, &quot;opacity&quot;: 1.0, &quot;smoothFactor&quot;: 1.0, &quot;stroke&quot;: true, &quot;weight&quot;: 3}\n",
       "            ).addTo(map_a6edfed3ed8a4d49788bb81ee4a143d5);\n",
       "        \n",
       "    \n",
       "            var poly_line_5ae7515eeee65b39505dd3ae00ed8d00 = L.polyline(\n",
       "                [[42.7311459, -84.4805818], [42.7310713, -84.4804892], [42.7307493, -84.4800898]],\n",
       "                {&quot;bubblingMouseEvents&quot;: true, &quot;color&quot;: &quot;#3388ff&quot;, &quot;dashArray&quot;: null, &quot;dashOffset&quot;: null, &quot;fill&quot;: false, &quot;fillColor&quot;: &quot;#3388ff&quot;, &quot;fillOpacity&quot;: 0.2, &quot;fillRule&quot;: &quot;evenodd&quot;, &quot;lineCap&quot;: &quot;round&quot;, &quot;lineJoin&quot;: &quot;round&quot;, &quot;noClip&quot;: false, &quot;opacity&quot;: 1.0, &quot;smoothFactor&quot;: 1.0, &quot;stroke&quot;: true, &quot;weight&quot;: 3}\n",
       "            ).addTo(map_a6edfed3ed8a4d49788bb81ee4a143d5);\n",
       "        \n",
       "    \n",
       "            var poly_line_ee1fcbf2f46a793c8c4541bba895f211 = L.polyline(\n",
       "                [[42.7307493, -84.4800898], [42.7306482, -84.479961], [42.73057, -84.4798428], [42.7305431, -84.4797889], [42.7305096, -84.4797425], [42.7304705, -84.479705], [42.7304363, -84.4796825], [42.7304, -84.4796668], [42.7303625, -84.4796583], [42.7298977, -84.4796546], [42.7293172, -84.4796499], [42.7293067, -84.4793856]],\n",
       "                {&quot;bubblingMouseEvents&quot;: true, &quot;color&quot;: &quot;#3388ff&quot;, &quot;dashArray&quot;: null, &quot;dashOffset&quot;: null, &quot;fill&quot;: false, &quot;fillColor&quot;: &quot;#3388ff&quot;, &quot;fillOpacity&quot;: 0.2, &quot;fillRule&quot;: &quot;evenodd&quot;, &quot;lineCap&quot;: &quot;round&quot;, &quot;lineJoin&quot;: &quot;round&quot;, &quot;noClip&quot;: false, &quot;opacity&quot;: 1.0, &quot;smoothFactor&quot;: 1.0, &quot;stroke&quot;: true, &quot;weight&quot;: 3}\n",
       "            ).addTo(map_a6edfed3ed8a4d49788bb81ee4a143d5);\n",
       "        \n",
       "    \n",
       "            var poly_line_67a660704b39ca5da929195a042a747f = L.polyline(\n",
       "                [[42.7293067, -84.4793856], [42.7292909, -84.479258], [42.7292722, -84.4791591], [42.729257, -84.4780274], [42.7292543, -84.4778272]],\n",
       "                {&quot;bubblingMouseEvents&quot;: true, &quot;color&quot;: &quot;#3388ff&quot;, &quot;dashArray&quot;: null, &quot;dashOffset&quot;: null, &quot;fill&quot;: false, &quot;fillColor&quot;: &quot;#3388ff&quot;, &quot;fillOpacity&quot;: 0.2, &quot;fillRule&quot;: &quot;evenodd&quot;, &quot;lineCap&quot;: &quot;round&quot;, &quot;lineJoin&quot;: &quot;round&quot;, &quot;noClip&quot;: false, &quot;opacity&quot;: 1.0, &quot;smoothFactor&quot;: 1.0, &quot;stroke&quot;: true, &quot;weight&quot;: 3}\n",
       "            ).addTo(map_a6edfed3ed8a4d49788bb81ee4a143d5);\n",
       "        \n",
       "    \n",
       "            map_a6edfed3ed8a4d49788bb81ee4a143d5.fitBounds(\n",
       "                [[42.7292543, -84.4873685], [42.7323408, -84.4778272]],\n",
       "                {}\n",
       "            );\n",
       "        \n",
       "&lt;/script&gt;\" style=\"position:absolute;width:100%;height:100%;left:0;top:0;border:none !important;\" allowfullscreen webkitallowfullscreen mozallowfullscreen></iframe></div></div>"
      ],
      "text/plain": [
       "<folium.folium.Map at 0x7f639adadf10>"
      ]
     },
     "metadata": {},
     "output_type": "display_data"
    }
   ],
   "source": [
    "find_route()"
   ]
  },
  {
   "cell_type": "markdown",
   "id": "52b78b8d",
   "metadata": {},
   "source": [
    "As we can see, the order of locations is important because of the 1-way roads on campus. Additionally, we see the user interface in action when incorrect inputs are entered. "
   ]
  },
  {
   "cell_type": "markdown",
   "id": "d04fd334",
   "metadata": {},
   "source": [
    "### Stop!"
   ]
  },
  {
   "cell_type": "markdown",
   "id": "5050e938",
   "metadata": {},
   "source": [
    "## 4 Discussion and Conclusion"
   ]
  },
  {
   "cell_type": "markdown",
   "id": "141fc4c9",
   "metadata": {},
   "source": [
    "Our group was able to successfully develop a user-friendly map that identifies the shortest route between two locations within East Lansing and on MSU’s campus. We are familiar with the basic use of OSMnx, Networkx and Folium. We were able to build upon our knowledge of these packages and their interactions with one another through this project. Additionally, we were able to expand their uses outside of what we learned in the classroom. Lastly, we learned about and utilized a new-to-us package called Geopy. \n",
    "\n",
    "There were a few difficulties we ran into when developing our code. The first is that the nodes list in OSMnx is non-exhaustive. Nodes between the start and end location were occasionally spread out so the connections between them are not always the most direct path. This caused some discrepancies in what would be the “shortest” path with our packages compared to what other websites may say. Another complication we ran into was trying to use live traffic data. We were initially planning on incorporating this into our code but it required the use of javascript, a language unfamiliar to us. The traffic data known to us in Python was behind an expensive paywall and therefore, inaccessible. Lastly, the run time of producing the graphs for OSMnx and Folium were long but manageable. \n",
    " \n",
    "Using Geopy, we were able to identify the latitudes and longitudes of user inputted locations. This was then able to connect to Networkx by identifying the nearest nodes to these locations and then plotting them on a basic graph using OSMnx. These graphs were not the most user-friendly though and we combatted this using Folium. Folium allows the user to zoom in and out, while also seeing other landmarks near their routes.\n",
    "\n",
    "While identifying the shortest path is helpful, we know there are different “shortest paths” depending on the user's preference of travel method. Therefore, we added additional features which allowed the user to identify how they wanted to travel (drive or walk) and whether they wanted to minimize the travel distance or the amount of time.\n",
    "\n",
    "In conclusion, we were able to produce our user-friendly graph while placing checks throughout the code to ensure no user-errors occurred. If an error was returned, we developed a user-friendly way to describe what the error was and what correction the user had to make in order to produce an appropriate graph."
   ]
  },
  {
   "cell_type": "markdown",
   "id": "b4ae27e1",
   "metadata": {},
   "source": [
    "### References"
   ]
  },
  {
   "cell_type": "markdown",
   "id": "06d65d70",
   "metadata": {},
   "source": [
    "OSMnx Python for Street Networks: https://geoffboeing.com/2016/11/osmnx-python-street-networks/\n",
    "\n",
    "\n",
    "\n",
    "\n",
    "OSMnx User Guide: https://osmnx.readthedocs.io/en/stable/osmnx.html\n",
    "\n",
    "\n",
    "\n",
    "\n",
    "Geoff Boeing OSMnx Github Tutorials: https://github.com/gboeing/osmnx-examples/tree/main/notebooks\n",
    "\n",
    "\n",
    "\n",
    "Representing Distance: https://towardsdatascience.com/driving-distance-between-two-or-more-places-in-python-89779d691def\n",
    "\n",
    "\n"
   ]
  }
 ],
 "metadata": {
  "kernelspec": {
   "display_name": "Python 3",
   "language": "python",
   "name": "python3"
  },
  "language_info": {
   "codemirror_mode": {
    "name": "ipython",
    "version": 3
   },
   "file_extension": ".py",
   "mimetype": "text/x-python",
   "name": "python",
   "nbconvert_exporter": "python",
   "pygments_lexer": "ipython3",
   "version": "3.8.8"
  }
 },
 "nbformat": 4,
 "nbformat_minor": 5
}
